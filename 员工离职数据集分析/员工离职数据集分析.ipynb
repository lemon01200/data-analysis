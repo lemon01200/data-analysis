{
 "cells": [
  {
   "metadata": {},
   "cell_type": "markdown",
   "source": "# 导入所需库",
   "id": "4ed6c30ad95665c9"
  },
  {
   "metadata": {
    "ExecuteTime": {
     "end_time": "2024-06-24T04:38:20.136772Z",
     "start_time": "2024-06-24T04:38:20.121065Z"
    }
   },
   "cell_type": "code",
   "source": [
    "# 数据处理\n",
    "import pandas as pd\n",
    "import numpy as np\n",
    "\n",
    "# 数据可视化\n",
    "from pyecharts import options as opts\n",
    "from pyecharts.charts import Pie,Bar,Line\n",
    "from matplotlib import pyplot as plt\n",
    "import seaborn as sns \n",
    "\n",
    "# 数据预处理\n",
    "from sklearn.preprocessing import LabelEncoder, StandardScaler\n",
    "\n",
    "#建模\n",
    "from sklearn.linear_model import LogisticRegression\n",
    "from sklearn.neighbors import KNeighborsClassifier\n",
    "from sklearn.tree import DecisionTreeClassifier\n",
    "from sklearn import tree \n",
    "from sklearn.ensemble import RandomForestClassifier\n",
    "from sklearn.naive_bayes import GaussianNB\n",
    "from sklearn.neural_network import MLPClassifier\n",
    "from sklearn.svm import SVC\n",
    "\n",
    "# 模型评估\n",
    "from sklearn.model_selection import cross_validate\n",
    "from sklearn.model_selection import train_test_split, KFold\n",
    "from sklearn.metrics import confusion_matrix, accuracy_score, classification_report\n",
    "from sklearn.metrics import roc_auc_score, roc_curve,make_scorer\n",
    "from sklearn.metrics import recall_score, precision_score, f1_score, cohen_kappa_score\n",
    "import hyperopt\n",
    "from hyperopt import hp, fmin, tpe, Trials, partial\n",
    "from hyperopt.early_stop import no_progress_loss"
   ],
   "id": "ab050b9a76bf1a29",
   "outputs": [],
   "execution_count": 75
  },
  {
   "metadata": {},
   "cell_type": "markdown",
   "source": "# 数据读取与观察",
   "id": "ba9d513ec0278a52"
  },
  {
   "metadata": {
    "ExecuteTime": {
     "end_time": "2024-06-24T04:38:21.997935Z",
     "start_time": "2024-06-24T04:38:21.004705Z"
    }
   },
   "cell_type": "code",
   "source": [
    "data = pd.read_excel(\".\\员工离职数据.xlsx\")\n",
    "data.head(10)"
   ],
   "id": "b678bc71820da6a3",
   "outputs": [
    {
     "data": {
      "text/plain": [
       "   satisfaction_level  last_evaluation  number_project  average_montly_hours  \\\n",
       "0                0.38             0.53               2                   157   \n",
       "1                0.80             0.86               5                   262   \n",
       "2                0.11             0.88               7                   272   \n",
       "3                0.72             0.87               5                   223   \n",
       "4                0.37             0.52               2                   159   \n",
       "5                0.41             0.50               2                   153   \n",
       "6                0.10             0.77               6                   247   \n",
       "7                0.92             0.85               5                   259   \n",
       "8                0.89             1.00               5                   224   \n",
       "9                0.42             0.53               2                   142   \n",
       "\n",
       "   time_spend_company  Work_accident  left  promotion_last_5years   sale  \\\n",
       "0                   3              0     1                      0  sales   \n",
       "1                   6              0     1                      0  sales   \n",
       "2                   4              0     1                      0  sales   \n",
       "3                   5              0     1                      0  sales   \n",
       "4                   3              0     1                      0  sales   \n",
       "5                   3              0     1                      0  sales   \n",
       "6                   4              0     1                      0  sales   \n",
       "7                   5              0     1                      0  sales   \n",
       "8                   5              0     1                      0  sales   \n",
       "9                   3              0     1                      0  sales   \n",
       "\n",
       "   salary  \n",
       "0     low  \n",
       "1  medium  \n",
       "2  medium  \n",
       "3     low  \n",
       "4     low  \n",
       "5     low  \n",
       "6     low  \n",
       "7     low  \n",
       "8     low  \n",
       "9     low  "
      ],
      "text/html": [
       "<div>\n",
       "<style scoped>\n",
       "    .dataframe tbody tr th:only-of-type {\n",
       "        vertical-align: middle;\n",
       "    }\n",
       "\n",
       "    .dataframe tbody tr th {\n",
       "        vertical-align: top;\n",
       "    }\n",
       "\n",
       "    .dataframe thead th {\n",
       "        text-align: right;\n",
       "    }\n",
       "</style>\n",
       "<table border=\"1\" class=\"dataframe\">\n",
       "  <thead>\n",
       "    <tr style=\"text-align: right;\">\n",
       "      <th></th>\n",
       "      <th>satisfaction_level</th>\n",
       "      <th>last_evaluation</th>\n",
       "      <th>number_project</th>\n",
       "      <th>average_montly_hours</th>\n",
       "      <th>time_spend_company</th>\n",
       "      <th>Work_accident</th>\n",
       "      <th>left</th>\n",
       "      <th>promotion_last_5years</th>\n",
       "      <th>sale</th>\n",
       "      <th>salary</th>\n",
       "    </tr>\n",
       "  </thead>\n",
       "  <tbody>\n",
       "    <tr>\n",
       "      <th>0</th>\n",
       "      <td>0.38</td>\n",
       "      <td>0.53</td>\n",
       "      <td>2</td>\n",
       "      <td>157</td>\n",
       "      <td>3</td>\n",
       "      <td>0</td>\n",
       "      <td>1</td>\n",
       "      <td>0</td>\n",
       "      <td>sales</td>\n",
       "      <td>low</td>\n",
       "    </tr>\n",
       "    <tr>\n",
       "      <th>1</th>\n",
       "      <td>0.80</td>\n",
       "      <td>0.86</td>\n",
       "      <td>5</td>\n",
       "      <td>262</td>\n",
       "      <td>6</td>\n",
       "      <td>0</td>\n",
       "      <td>1</td>\n",
       "      <td>0</td>\n",
       "      <td>sales</td>\n",
       "      <td>medium</td>\n",
       "    </tr>\n",
       "    <tr>\n",
       "      <th>2</th>\n",
       "      <td>0.11</td>\n",
       "      <td>0.88</td>\n",
       "      <td>7</td>\n",
       "      <td>272</td>\n",
       "      <td>4</td>\n",
       "      <td>0</td>\n",
       "      <td>1</td>\n",
       "      <td>0</td>\n",
       "      <td>sales</td>\n",
       "      <td>medium</td>\n",
       "    </tr>\n",
       "    <tr>\n",
       "      <th>3</th>\n",
       "      <td>0.72</td>\n",
       "      <td>0.87</td>\n",
       "      <td>5</td>\n",
       "      <td>223</td>\n",
       "      <td>5</td>\n",
       "      <td>0</td>\n",
       "      <td>1</td>\n",
       "      <td>0</td>\n",
       "      <td>sales</td>\n",
       "      <td>low</td>\n",
       "    </tr>\n",
       "    <tr>\n",
       "      <th>4</th>\n",
       "      <td>0.37</td>\n",
       "      <td>0.52</td>\n",
       "      <td>2</td>\n",
       "      <td>159</td>\n",
       "      <td>3</td>\n",
       "      <td>0</td>\n",
       "      <td>1</td>\n",
       "      <td>0</td>\n",
       "      <td>sales</td>\n",
       "      <td>low</td>\n",
       "    </tr>\n",
       "    <tr>\n",
       "      <th>5</th>\n",
       "      <td>0.41</td>\n",
       "      <td>0.50</td>\n",
       "      <td>2</td>\n",
       "      <td>153</td>\n",
       "      <td>3</td>\n",
       "      <td>0</td>\n",
       "      <td>1</td>\n",
       "      <td>0</td>\n",
       "      <td>sales</td>\n",
       "      <td>low</td>\n",
       "    </tr>\n",
       "    <tr>\n",
       "      <th>6</th>\n",
       "      <td>0.10</td>\n",
       "      <td>0.77</td>\n",
       "      <td>6</td>\n",
       "      <td>247</td>\n",
       "      <td>4</td>\n",
       "      <td>0</td>\n",
       "      <td>1</td>\n",
       "      <td>0</td>\n",
       "      <td>sales</td>\n",
       "      <td>low</td>\n",
       "    </tr>\n",
       "    <tr>\n",
       "      <th>7</th>\n",
       "      <td>0.92</td>\n",
       "      <td>0.85</td>\n",
       "      <td>5</td>\n",
       "      <td>259</td>\n",
       "      <td>5</td>\n",
       "      <td>0</td>\n",
       "      <td>1</td>\n",
       "      <td>0</td>\n",
       "      <td>sales</td>\n",
       "      <td>low</td>\n",
       "    </tr>\n",
       "    <tr>\n",
       "      <th>8</th>\n",
       "      <td>0.89</td>\n",
       "      <td>1.00</td>\n",
       "      <td>5</td>\n",
       "      <td>224</td>\n",
       "      <td>5</td>\n",
       "      <td>0</td>\n",
       "      <td>1</td>\n",
       "      <td>0</td>\n",
       "      <td>sales</td>\n",
       "      <td>low</td>\n",
       "    </tr>\n",
       "    <tr>\n",
       "      <th>9</th>\n",
       "      <td>0.42</td>\n",
       "      <td>0.53</td>\n",
       "      <td>2</td>\n",
       "      <td>142</td>\n",
       "      <td>3</td>\n",
       "      <td>0</td>\n",
       "      <td>1</td>\n",
       "      <td>0</td>\n",
       "      <td>sales</td>\n",
       "      <td>low</td>\n",
       "    </tr>\n",
       "  </tbody>\n",
       "</table>\n",
       "</div>"
      ]
     },
     "execution_count": 76,
     "metadata": {},
     "output_type": "execute_result"
    }
   ],
   "execution_count": 76
  },
  {
   "metadata": {
    "ExecuteTime": {
     "end_time": "2024-06-24T04:38:22.013988Z",
     "start_time": "2024-06-24T04:38:21.997935Z"
    }
   },
   "cell_type": "code",
   "source": "data.shape",
   "id": "b7061759404ff28e",
   "outputs": [
    {
     "data": {
      "text/plain": [
       "(14999, 10)"
      ]
     },
     "execution_count": 77,
     "metadata": {},
     "output_type": "execute_result"
    }
   ],
   "execution_count": 77
  },
  {
   "metadata": {
    "ExecuteTime": {
     "end_time": "2024-06-24T04:38:22.029636Z",
     "start_time": "2024-06-24T04:38:22.013988Z"
    }
   },
   "cell_type": "code",
   "source": "data.iloc[:,:2]",
   "id": "1ec7b20eba9e6ef7",
   "outputs": [
    {
     "data": {
      "text/plain": [
       "       satisfaction_level  last_evaluation\n",
       "0                    0.38             0.53\n",
       "1                    0.80             0.86\n",
       "2                    0.11             0.88\n",
       "3                    0.72             0.87\n",
       "4                    0.37             0.52\n",
       "...                   ...              ...\n",
       "14994                0.40             0.57\n",
       "14995                0.37             0.48\n",
       "14996                0.37             0.53\n",
       "14997                0.11             0.96\n",
       "14998                0.37             0.52\n",
       "\n",
       "[14999 rows x 2 columns]"
      ],
      "text/html": [
       "<div>\n",
       "<style scoped>\n",
       "    .dataframe tbody tr th:only-of-type {\n",
       "        vertical-align: middle;\n",
       "    }\n",
       "\n",
       "    .dataframe tbody tr th {\n",
       "        vertical-align: top;\n",
       "    }\n",
       "\n",
       "    .dataframe thead th {\n",
       "        text-align: right;\n",
       "    }\n",
       "</style>\n",
       "<table border=\"1\" class=\"dataframe\">\n",
       "  <thead>\n",
       "    <tr style=\"text-align: right;\">\n",
       "      <th></th>\n",
       "      <th>satisfaction_level</th>\n",
       "      <th>last_evaluation</th>\n",
       "    </tr>\n",
       "  </thead>\n",
       "  <tbody>\n",
       "    <tr>\n",
       "      <th>0</th>\n",
       "      <td>0.38</td>\n",
       "      <td>0.53</td>\n",
       "    </tr>\n",
       "    <tr>\n",
       "      <th>1</th>\n",
       "      <td>0.80</td>\n",
       "      <td>0.86</td>\n",
       "    </tr>\n",
       "    <tr>\n",
       "      <th>2</th>\n",
       "      <td>0.11</td>\n",
       "      <td>0.88</td>\n",
       "    </tr>\n",
       "    <tr>\n",
       "      <th>3</th>\n",
       "      <td>0.72</td>\n",
       "      <td>0.87</td>\n",
       "    </tr>\n",
       "    <tr>\n",
       "      <th>4</th>\n",
       "      <td>0.37</td>\n",
       "      <td>0.52</td>\n",
       "    </tr>\n",
       "    <tr>\n",
       "      <th>...</th>\n",
       "      <td>...</td>\n",
       "      <td>...</td>\n",
       "    </tr>\n",
       "    <tr>\n",
       "      <th>14994</th>\n",
       "      <td>0.40</td>\n",
       "      <td>0.57</td>\n",
       "    </tr>\n",
       "    <tr>\n",
       "      <th>14995</th>\n",
       "      <td>0.37</td>\n",
       "      <td>0.48</td>\n",
       "    </tr>\n",
       "    <tr>\n",
       "      <th>14996</th>\n",
       "      <td>0.37</td>\n",
       "      <td>0.53</td>\n",
       "    </tr>\n",
       "    <tr>\n",
       "      <th>14997</th>\n",
       "      <td>0.11</td>\n",
       "      <td>0.96</td>\n",
       "    </tr>\n",
       "    <tr>\n",
       "      <th>14998</th>\n",
       "      <td>0.37</td>\n",
       "      <td>0.52</td>\n",
       "    </tr>\n",
       "  </tbody>\n",
       "</table>\n",
       "<p>14999 rows × 2 columns</p>\n",
       "</div>"
      ]
     },
     "execution_count": 78,
     "metadata": {},
     "output_type": "execute_result"
    }
   ],
   "execution_count": 78
  },
  {
   "metadata": {
    "ExecuteTime": {
     "end_time": "2024-06-24T04:38:22.643487Z",
     "start_time": "2024-06-24T04:38:22.627827Z"
    }
   },
   "cell_type": "code",
   "source": "data.info()",
   "id": "57cb59be1ee310f1",
   "outputs": [
    {
     "name": "stdout",
     "output_type": "stream",
     "text": [
      "<class 'pandas.core.frame.DataFrame'>\n",
      "RangeIndex: 14999 entries, 0 to 14998\n",
      "Data columns (total 10 columns):\n",
      " #   Column                 Non-Null Count  Dtype  \n",
      "---  ------                 --------------  -----  \n",
      " 0   satisfaction_level     14999 non-null  float64\n",
      " 1   last_evaluation        14999 non-null  float64\n",
      " 2   number_project         14999 non-null  int64  \n",
      " 3   average_montly_hours   14999 non-null  int64  \n",
      " 4   time_spend_company     14999 non-null  int64  \n",
      " 5   Work_accident          14999 non-null  int64  \n",
      " 6   left                   14999 non-null  int64  \n",
      " 7   promotion_last_5years  14999 non-null  int64  \n",
      " 8   sale                   14999 non-null  object \n",
      " 9   salary                 14999 non-null  object \n",
      "dtypes: float64(2), int64(6), object(2)\n",
      "memory usage: 1.1+ MB\n"
     ]
    }
   ],
   "execution_count": 79
  },
  {
   "metadata": {
    "ExecuteTime": {
     "end_time": "2024-06-24T04:38:23.128240Z",
     "start_time": "2024-06-24T04:38:23.080942Z"
    }
   },
   "cell_type": "code",
   "source": "data.describe()",
   "id": "c0268ac49975c791",
   "outputs": [
    {
     "data": {
      "text/plain": [
       "       satisfaction_level  last_evaluation  number_project  \\\n",
       "count        14999.000000     14999.000000    14999.000000   \n",
       "mean             0.612834         0.716102        3.803054   \n",
       "std              0.248631         0.171169        1.232592   \n",
       "min              0.090000         0.360000        2.000000   \n",
       "25%              0.440000         0.560000        3.000000   \n",
       "50%              0.640000         0.720000        4.000000   \n",
       "75%              0.820000         0.870000        5.000000   \n",
       "max              1.000000         1.000000        7.000000   \n",
       "\n",
       "       average_montly_hours  time_spend_company  Work_accident          left  \\\n",
       "count          14999.000000        14999.000000   14999.000000  14999.000000   \n",
       "mean             201.050337            3.498233       0.144610      0.238083   \n",
       "std               49.943099            1.460136       0.351719      0.425924   \n",
       "min               96.000000            2.000000       0.000000      0.000000   \n",
       "25%              156.000000            3.000000       0.000000      0.000000   \n",
       "50%              200.000000            3.000000       0.000000      0.000000   \n",
       "75%              245.000000            4.000000       0.000000      0.000000   \n",
       "max              310.000000           10.000000       1.000000      1.000000   \n",
       "\n",
       "       promotion_last_5years  \n",
       "count           14999.000000  \n",
       "mean                0.021268  \n",
       "std                 0.144281  \n",
       "min                 0.000000  \n",
       "25%                 0.000000  \n",
       "50%                 0.000000  \n",
       "75%                 0.000000  \n",
       "max                 1.000000  "
      ],
      "text/html": [
       "<div>\n",
       "<style scoped>\n",
       "    .dataframe tbody tr th:only-of-type {\n",
       "        vertical-align: middle;\n",
       "    }\n",
       "\n",
       "    .dataframe tbody tr th {\n",
       "        vertical-align: top;\n",
       "    }\n",
       "\n",
       "    .dataframe thead th {\n",
       "        text-align: right;\n",
       "    }\n",
       "</style>\n",
       "<table border=\"1\" class=\"dataframe\">\n",
       "  <thead>\n",
       "    <tr style=\"text-align: right;\">\n",
       "      <th></th>\n",
       "      <th>satisfaction_level</th>\n",
       "      <th>last_evaluation</th>\n",
       "      <th>number_project</th>\n",
       "      <th>average_montly_hours</th>\n",
       "      <th>time_spend_company</th>\n",
       "      <th>Work_accident</th>\n",
       "      <th>left</th>\n",
       "      <th>promotion_last_5years</th>\n",
       "    </tr>\n",
       "  </thead>\n",
       "  <tbody>\n",
       "    <tr>\n",
       "      <th>count</th>\n",
       "      <td>14999.000000</td>\n",
       "      <td>14999.000000</td>\n",
       "      <td>14999.000000</td>\n",
       "      <td>14999.000000</td>\n",
       "      <td>14999.000000</td>\n",
       "      <td>14999.000000</td>\n",
       "      <td>14999.000000</td>\n",
       "      <td>14999.000000</td>\n",
       "    </tr>\n",
       "    <tr>\n",
       "      <th>mean</th>\n",
       "      <td>0.612834</td>\n",
       "      <td>0.716102</td>\n",
       "      <td>3.803054</td>\n",
       "      <td>201.050337</td>\n",
       "      <td>3.498233</td>\n",
       "      <td>0.144610</td>\n",
       "      <td>0.238083</td>\n",
       "      <td>0.021268</td>\n",
       "    </tr>\n",
       "    <tr>\n",
       "      <th>std</th>\n",
       "      <td>0.248631</td>\n",
       "      <td>0.171169</td>\n",
       "      <td>1.232592</td>\n",
       "      <td>49.943099</td>\n",
       "      <td>1.460136</td>\n",
       "      <td>0.351719</td>\n",
       "      <td>0.425924</td>\n",
       "      <td>0.144281</td>\n",
       "    </tr>\n",
       "    <tr>\n",
       "      <th>min</th>\n",
       "      <td>0.090000</td>\n",
       "      <td>0.360000</td>\n",
       "      <td>2.000000</td>\n",
       "      <td>96.000000</td>\n",
       "      <td>2.000000</td>\n",
       "      <td>0.000000</td>\n",
       "      <td>0.000000</td>\n",
       "      <td>0.000000</td>\n",
       "    </tr>\n",
       "    <tr>\n",
       "      <th>25%</th>\n",
       "      <td>0.440000</td>\n",
       "      <td>0.560000</td>\n",
       "      <td>3.000000</td>\n",
       "      <td>156.000000</td>\n",
       "      <td>3.000000</td>\n",
       "      <td>0.000000</td>\n",
       "      <td>0.000000</td>\n",
       "      <td>0.000000</td>\n",
       "    </tr>\n",
       "    <tr>\n",
       "      <th>50%</th>\n",
       "      <td>0.640000</td>\n",
       "      <td>0.720000</td>\n",
       "      <td>4.000000</td>\n",
       "      <td>200.000000</td>\n",
       "      <td>3.000000</td>\n",
       "      <td>0.000000</td>\n",
       "      <td>0.000000</td>\n",
       "      <td>0.000000</td>\n",
       "    </tr>\n",
       "    <tr>\n",
       "      <th>75%</th>\n",
       "      <td>0.820000</td>\n",
       "      <td>0.870000</td>\n",
       "      <td>5.000000</td>\n",
       "      <td>245.000000</td>\n",
       "      <td>4.000000</td>\n",
       "      <td>0.000000</td>\n",
       "      <td>0.000000</td>\n",
       "      <td>0.000000</td>\n",
       "    </tr>\n",
       "    <tr>\n",
       "      <th>max</th>\n",
       "      <td>1.000000</td>\n",
       "      <td>1.000000</td>\n",
       "      <td>7.000000</td>\n",
       "      <td>310.000000</td>\n",
       "      <td>10.000000</td>\n",
       "      <td>1.000000</td>\n",
       "      <td>1.000000</td>\n",
       "      <td>1.000000</td>\n",
       "    </tr>\n",
       "  </tbody>\n",
       "</table>\n",
       "</div>"
      ]
     },
     "execution_count": 80,
     "metadata": {},
     "output_type": "execute_result"
    }
   ],
   "execution_count": 80
  },
  {
   "metadata": {
    "ExecuteTime": {
     "end_time": "2024-06-24T04:38:23.480617Z",
     "start_time": "2024-06-24T04:38:23.448723Z"
    }
   },
   "cell_type": "code",
   "source": [
    "for item in data.columns:\n",
    "    print(f'{item}列有{data[item].nunique()}个不同取值')\n",
    "    print(f'{item}列统计信息：\\n')\n",
    "    print(data[item].value_counts())\n",
    "    print('*' * 60)                                           # 输出每列特征数据的不同取值个数以及每个数值的统计情况\n"
   ],
   "id": "60d90cb1798b448d",
   "outputs": [
    {
     "name": "stdout",
     "output_type": "stream",
     "text": [
      "satisfaction_level列有92个不同取值\n",
      "satisfaction_level列统计信息：\n",
      "\n",
      "satisfaction_level\n",
      "0.10    358\n",
      "0.11    335\n",
      "0.74    257\n",
      "0.77    252\n",
      "0.84    247\n",
      "       ... \n",
      "0.25     34\n",
      "0.28     31\n",
      "0.27     30\n",
      "0.26     30\n",
      "0.12     30\n",
      "Name: count, Length: 92, dtype: int64\n",
      "************************************************************\n",
      "last_evaluation列有65个不同取值\n",
      "last_evaluation列统计信息：\n",
      "\n",
      "last_evaluation\n",
      "0.55    358\n",
      "0.50    353\n",
      "0.54    350\n",
      "0.51    345\n",
      "0.57    333\n",
      "       ... \n",
      "0.39     52\n",
      "0.43     50\n",
      "0.38     50\n",
      "0.44     44\n",
      "0.36     22\n",
      "Name: count, Length: 65, dtype: int64\n",
      "************************************************************\n",
      "number_project列有6个不同取值\n",
      "number_project列统计信息：\n",
      "\n",
      "number_project\n",
      "4    4365\n",
      "3    4055\n",
      "5    2761\n",
      "2    2388\n",
      "6    1174\n",
      "7     256\n",
      "Name: count, dtype: int64\n",
      "************************************************************\n",
      "average_montly_hours列有215个不同取值\n",
      "average_montly_hours列统计信息：\n",
      "\n",
      "average_montly_hours\n",
      "135    153\n",
      "156    153\n",
      "149    148\n",
      "151    147\n",
      "160    136\n",
      "      ... \n",
      "297      7\n",
      "288      6\n",
      "299      6\n",
      "96       6\n",
      "303      6\n",
      "Name: count, Length: 215, dtype: int64\n",
      "************************************************************\n",
      "time_spend_company列有8个不同取值\n",
      "time_spend_company列统计信息：\n",
      "\n",
      "time_spend_company\n",
      "3     6443\n",
      "2     3244\n",
      "4     2557\n",
      "5     1473\n",
      "6      718\n",
      "10     214\n",
      "7      188\n",
      "8      162\n",
      "Name: count, dtype: int64\n",
      "************************************************************\n",
      "Work_accident列有2个不同取值\n",
      "Work_accident列统计信息：\n",
      "\n",
      "Work_accident\n",
      "0    12830\n",
      "1     2169\n",
      "Name: count, dtype: int64\n",
      "************************************************************\n",
      "left列有2个不同取值\n",
      "left列统计信息：\n",
      "\n",
      "left\n",
      "0    11428\n",
      "1     3571\n",
      "Name: count, dtype: int64\n",
      "************************************************************\n",
      "promotion_last_5years列有2个不同取值\n",
      "promotion_last_5years列统计信息：\n",
      "\n",
      "promotion_last_5years\n",
      "0    14680\n",
      "1      319\n",
      "Name: count, dtype: int64\n",
      "************************************************************\n",
      "sale列有10个不同取值\n",
      "sale列统计信息：\n",
      "\n",
      "sale\n",
      "sales          4140\n",
      "technical      2720\n",
      "support        2229\n",
      "IT             1227\n",
      "product_mng     902\n",
      "marketing       858\n",
      "RandD           787\n",
      "accounting      767\n",
      "hr              739\n",
      "management      630\n",
      "Name: count, dtype: int64\n",
      "************************************************************\n",
      "salary列有3个不同取值\n",
      "salary列统计信息：\n",
      "\n",
      "salary\n",
      "low       7316\n",
      "medium    6446\n",
      "high      1237\n",
      "Name: count, dtype: int64\n",
      "************************************************************\n"
     ]
    }
   ],
   "execution_count": 81
  },
  {
   "metadata": {},
   "cell_type": "markdown",
   "source": "根据对数据的观察，对每个字段进行翻译: ",
   "id": "8d43d1f6be3cca12"
  },
  {
   "metadata": {},
   "cell_type": "markdown",
   "source": [
    "| 字段                                   | 字段翻译     | 数据类型                           |\n",
    "|--------------------------------------|----------|--------------------------------|\n",
    "| satisfaction_level                   | 满意度      | float64                        |\n",
    "| last_evaluation                      | 上次绩效评估分数 | float64                        |\n",
    "| number_project                       | 项目数      | int64                          |\n",
    "| average_montly_hours                 | 月平均工作小时数 | int64                          |\n",
    "| time_spend_company                   | 在公司工作年限  | int64                          |\n",
    "| Work_accident                        | 是否发生工作事故 | int64                          |\n",
    "| promotion_last_5years                | 最近五年升职   | int64                          |\n",
    "| sale                                 | 所属部门     | object                         |\n",
    "| salary                               | 薪资水平     | object                         |\n",
    "| left                                 | 是否离职     | int64                          |"
   ],
   "id": "7c7b70b7c9d79605"
  },
  {
   "metadata": {},
   "cell_type": "markdown",
   "source": "将各字段的不同值的统计结果整理于下：",
   "id": "865dd674214ec80f"
  },
  {
   "metadata": {},
   "cell_type": "markdown",
   "source": [
    "| 字段名称              | 字段描述              | 不同值个数 |\n",
    "|-----------------------|-------------------|------------|\n",
    "| satisfaction_level    | 满意度               | 92         |\n",
    "| last_evaluation       | 上次绩效评估分数          | 65         |\n",
    "| number_project        | 项目数               | 6          |\n",
    "| average_montly_hours  | 月平均工作时长           | 215        |\n",
    "| time_spend_company    | 在公司的工作年限          | 8          |\n",
    "| Work_accident         | 是否发生工作事故（0：否，1：是） | 2          |\n",
    "| left                  | 是否已离职（0：否，1：是）    | 2          |\n",
    "| promotion_last_5years | 最近五年升职（0：否，1：是）   | 2          |\n",
    "| sale                  | 所属部门              | 10         |\n",
    "| salary                | 薪资水平（low、medium、high）       | 3          |\n"
   ],
   "id": "320a83be854c3484"
  },
  {
   "metadata": {},
   "cell_type": "markdown",
   "source": "标签字段为left",
   "id": "e9363f0e6d738dc9"
  },
  {
   "metadata": {},
   "cell_type": "markdown",
   "source": "# 数据预处理",
   "id": "9972effd0c0c296a"
  },
  {
   "metadata": {},
   "cell_type": "markdown",
   "source": "## 数据类型转换   ",
   "id": "e332ff5ffc9e8075"
  },
  {
   "metadata": {},
   "cell_type": "markdown",
   "source": [
    "sale(所属部门)与salary(薪资水平)为字符型数据，根据不同值统计结果:\n",
    ">- sale不同值数较多，选择采用标签编码。\n",
    "> - salary分类为low、medium、high为有序的类别数据，选择采用标签编码"
   ],
   "id": "60d1758b16e192e4"
  },
  {
   "metadata": {
    "ExecuteTime": {
     "end_time": "2024-06-24T04:38:27.722067Z",
     "start_time": "2024-06-24T04:38:27.690096Z"
    }
   },
   "cell_type": "code",
   "source": [
    "# 实例化标签编码类\n",
    "label_encoder = LabelEncoder()\n",
    "\n",
    "data_change = data.copy()\n",
    "data_change['sale'] = label_encoder.fit_transform(data_change['sale'])\n",
    "data_change['salary'] = label_encoder.fit_transform(data_change['salary'])\n",
    "data_change"
   ],
   "id": "8a8a785722ec1d0d",
   "outputs": [
    {
     "data": {
      "text/plain": [
       "       satisfaction_level  last_evaluation  number_project  \\\n",
       "0                    0.38             0.53               2   \n",
       "1                    0.80             0.86               5   \n",
       "2                    0.11             0.88               7   \n",
       "3                    0.72             0.87               5   \n",
       "4                    0.37             0.52               2   \n",
       "...                   ...              ...             ...   \n",
       "14994                0.40             0.57               2   \n",
       "14995                0.37             0.48               2   \n",
       "14996                0.37             0.53               2   \n",
       "14997                0.11             0.96               6   \n",
       "14998                0.37             0.52               2   \n",
       "\n",
       "       average_montly_hours  time_spend_company  Work_accident  left  \\\n",
       "0                       157                   3              0     1   \n",
       "1                       262                   6              0     1   \n",
       "2                       272                   4              0     1   \n",
       "3                       223                   5              0     1   \n",
       "4                       159                   3              0     1   \n",
       "...                     ...                 ...            ...   ...   \n",
       "14994                   151                   3              0     1   \n",
       "14995                   160                   3              0     1   \n",
       "14996                   143                   3              0     1   \n",
       "14997                   280                   4              0     1   \n",
       "14998                   158                   3              0     1   \n",
       "\n",
       "       promotion_last_5years  sale  salary  \n",
       "0                          0     7       1  \n",
       "1                          0     7       2  \n",
       "2                          0     7       2  \n",
       "3                          0     7       1  \n",
       "4                          0     7       1  \n",
       "...                      ...   ...     ...  \n",
       "14994                      0     8       1  \n",
       "14995                      0     8       1  \n",
       "14996                      0     8       1  \n",
       "14997                      0     8       1  \n",
       "14998                      0     8       1  \n",
       "\n",
       "[14999 rows x 10 columns]"
      ],
      "text/html": [
       "<div>\n",
       "<style scoped>\n",
       "    .dataframe tbody tr th:only-of-type {\n",
       "        vertical-align: middle;\n",
       "    }\n",
       "\n",
       "    .dataframe tbody tr th {\n",
       "        vertical-align: top;\n",
       "    }\n",
       "\n",
       "    .dataframe thead th {\n",
       "        text-align: right;\n",
       "    }\n",
       "</style>\n",
       "<table border=\"1\" class=\"dataframe\">\n",
       "  <thead>\n",
       "    <tr style=\"text-align: right;\">\n",
       "      <th></th>\n",
       "      <th>satisfaction_level</th>\n",
       "      <th>last_evaluation</th>\n",
       "      <th>number_project</th>\n",
       "      <th>average_montly_hours</th>\n",
       "      <th>time_spend_company</th>\n",
       "      <th>Work_accident</th>\n",
       "      <th>left</th>\n",
       "      <th>promotion_last_5years</th>\n",
       "      <th>sale</th>\n",
       "      <th>salary</th>\n",
       "    </tr>\n",
       "  </thead>\n",
       "  <tbody>\n",
       "    <tr>\n",
       "      <th>0</th>\n",
       "      <td>0.38</td>\n",
       "      <td>0.53</td>\n",
       "      <td>2</td>\n",
       "      <td>157</td>\n",
       "      <td>3</td>\n",
       "      <td>0</td>\n",
       "      <td>1</td>\n",
       "      <td>0</td>\n",
       "      <td>7</td>\n",
       "      <td>1</td>\n",
       "    </tr>\n",
       "    <tr>\n",
       "      <th>1</th>\n",
       "      <td>0.80</td>\n",
       "      <td>0.86</td>\n",
       "      <td>5</td>\n",
       "      <td>262</td>\n",
       "      <td>6</td>\n",
       "      <td>0</td>\n",
       "      <td>1</td>\n",
       "      <td>0</td>\n",
       "      <td>7</td>\n",
       "      <td>2</td>\n",
       "    </tr>\n",
       "    <tr>\n",
       "      <th>2</th>\n",
       "      <td>0.11</td>\n",
       "      <td>0.88</td>\n",
       "      <td>7</td>\n",
       "      <td>272</td>\n",
       "      <td>4</td>\n",
       "      <td>0</td>\n",
       "      <td>1</td>\n",
       "      <td>0</td>\n",
       "      <td>7</td>\n",
       "      <td>2</td>\n",
       "    </tr>\n",
       "    <tr>\n",
       "      <th>3</th>\n",
       "      <td>0.72</td>\n",
       "      <td>0.87</td>\n",
       "      <td>5</td>\n",
       "      <td>223</td>\n",
       "      <td>5</td>\n",
       "      <td>0</td>\n",
       "      <td>1</td>\n",
       "      <td>0</td>\n",
       "      <td>7</td>\n",
       "      <td>1</td>\n",
       "    </tr>\n",
       "    <tr>\n",
       "      <th>4</th>\n",
       "      <td>0.37</td>\n",
       "      <td>0.52</td>\n",
       "      <td>2</td>\n",
       "      <td>159</td>\n",
       "      <td>3</td>\n",
       "      <td>0</td>\n",
       "      <td>1</td>\n",
       "      <td>0</td>\n",
       "      <td>7</td>\n",
       "      <td>1</td>\n",
       "    </tr>\n",
       "    <tr>\n",
       "      <th>...</th>\n",
       "      <td>...</td>\n",
       "      <td>...</td>\n",
       "      <td>...</td>\n",
       "      <td>...</td>\n",
       "      <td>...</td>\n",
       "      <td>...</td>\n",
       "      <td>...</td>\n",
       "      <td>...</td>\n",
       "      <td>...</td>\n",
       "      <td>...</td>\n",
       "    </tr>\n",
       "    <tr>\n",
       "      <th>14994</th>\n",
       "      <td>0.40</td>\n",
       "      <td>0.57</td>\n",
       "      <td>2</td>\n",
       "      <td>151</td>\n",
       "      <td>3</td>\n",
       "      <td>0</td>\n",
       "      <td>1</td>\n",
       "      <td>0</td>\n",
       "      <td>8</td>\n",
       "      <td>1</td>\n",
       "    </tr>\n",
       "    <tr>\n",
       "      <th>14995</th>\n",
       "      <td>0.37</td>\n",
       "      <td>0.48</td>\n",
       "      <td>2</td>\n",
       "      <td>160</td>\n",
       "      <td>3</td>\n",
       "      <td>0</td>\n",
       "      <td>1</td>\n",
       "      <td>0</td>\n",
       "      <td>8</td>\n",
       "      <td>1</td>\n",
       "    </tr>\n",
       "    <tr>\n",
       "      <th>14996</th>\n",
       "      <td>0.37</td>\n",
       "      <td>0.53</td>\n",
       "      <td>2</td>\n",
       "      <td>143</td>\n",
       "      <td>3</td>\n",
       "      <td>0</td>\n",
       "      <td>1</td>\n",
       "      <td>0</td>\n",
       "      <td>8</td>\n",
       "      <td>1</td>\n",
       "    </tr>\n",
       "    <tr>\n",
       "      <th>14997</th>\n",
       "      <td>0.11</td>\n",
       "      <td>0.96</td>\n",
       "      <td>6</td>\n",
       "      <td>280</td>\n",
       "      <td>4</td>\n",
       "      <td>0</td>\n",
       "      <td>1</td>\n",
       "      <td>0</td>\n",
       "      <td>8</td>\n",
       "      <td>1</td>\n",
       "    </tr>\n",
       "    <tr>\n",
       "      <th>14998</th>\n",
       "      <td>0.37</td>\n",
       "      <td>0.52</td>\n",
       "      <td>2</td>\n",
       "      <td>158</td>\n",
       "      <td>3</td>\n",
       "      <td>0</td>\n",
       "      <td>1</td>\n",
       "      <td>0</td>\n",
       "      <td>8</td>\n",
       "      <td>1</td>\n",
       "    </tr>\n",
       "  </tbody>\n",
       "</table>\n",
       "<p>14999 rows × 10 columns</p>\n",
       "</div>"
      ]
     },
     "execution_count": 82,
     "metadata": {},
     "output_type": "execute_result"
    }
   ],
   "execution_count": 82
  },
  {
   "metadata": {
    "ExecuteTime": {
     "end_time": "2024-06-24T04:38:28.671584Z",
     "start_time": "2024-06-24T04:38:28.640191Z"
    }
   },
   "cell_type": "code",
   "source": [
    "# 转换完成\n",
    "data_change.info()"
   ],
   "id": "fb0cb5ace4d2e9b",
   "outputs": [
    {
     "name": "stdout",
     "output_type": "stream",
     "text": [
      "<class 'pandas.core.frame.DataFrame'>\n",
      "RangeIndex: 14999 entries, 0 to 14998\n",
      "Data columns (total 10 columns):\n",
      " #   Column                 Non-Null Count  Dtype  \n",
      "---  ------                 --------------  -----  \n",
      " 0   satisfaction_level     14999 non-null  float64\n",
      " 1   last_evaluation        14999 non-null  float64\n",
      " 2   number_project         14999 non-null  int64  \n",
      " 3   average_montly_hours   14999 non-null  int64  \n",
      " 4   time_spend_company     14999 non-null  int64  \n",
      " 5   Work_accident          14999 non-null  int64  \n",
      " 6   left                   14999 non-null  int64  \n",
      " 7   promotion_last_5years  14999 non-null  int64  \n",
      " 8   sale                   14999 non-null  int32  \n",
      " 9   salary                 14999 non-null  int32  \n",
      "dtypes: float64(2), int32(2), int64(6)\n",
      "memory usage: 1.0 MB\n"
     ]
    }
   ],
   "execution_count": 83
  },
  {
   "metadata": {},
   "cell_type": "markdown",
   "source": "## 缺失值处理",
   "id": "baafb6dc025a1e52"
  },
  {
   "metadata": {
    "ExecuteTime": {
     "end_time": "2024-06-24T04:38:29.811740Z",
     "start_time": "2024-06-24T04:38:29.780700Z"
    }
   },
   "cell_type": "code",
   "source": [
    "# 查看缺失值\n",
    "data_change.isna().sum()"
   ],
   "id": "44b498453818f1c6",
   "outputs": [
    {
     "data": {
      "text/plain": [
       "satisfaction_level       0\n",
       "last_evaluation          0\n",
       "number_project           0\n",
       "average_montly_hours     0\n",
       "time_spend_company       0\n",
       "Work_accident            0\n",
       "left                     0\n",
       "promotion_last_5years    0\n",
       "sale                     0\n",
       "salary                   0\n",
       "dtype: int64"
      ]
     },
     "execution_count": 84,
     "metadata": {},
     "output_type": "execute_result"
    }
   ],
   "execution_count": 84
  },
  {
   "metadata": {},
   "cell_type": "markdown",
   "source": "未发现缺失值，不对其进行缺失值处理",
   "id": "d891219ef67e7cdd"
  },
  {
   "metadata": {},
   "cell_type": "markdown",
   "source": "## 重复值处理",
   "id": "c320d7d2ea170066"
  },
  {
   "metadata": {
    "ExecuteTime": {
     "end_time": "2024-06-24T04:38:31.131745Z",
     "start_time": "2024-06-24T04:38:31.115476Z"
    }
   },
   "cell_type": "code",
   "source": [
    "# 检查重复值\n",
    "duplicate_rows = data_change[data_change.duplicated()]\n",
    "# 查看重复值数量\n",
    "data_change.duplicated().sum()"
   ],
   "id": "cfefeba0241dde4d",
   "outputs": [
    {
     "data": {
      "text/plain": [
       "3008"
      ]
     },
     "execution_count": 85,
     "metadata": {},
     "output_type": "execute_result"
    }
   ],
   "execution_count": 85
  },
  {
   "metadata": {
    "ExecuteTime": {
     "end_time": "2024-06-24T04:38:31.714811Z",
     "start_time": "2024-06-24T04:38:31.699187Z"
    }
   },
   "cell_type": "code",
   "source": "duplicate_rows",
   "id": "2fd634fad67d1c4f",
   "outputs": [
    {
     "data": {
      "text/plain": [
       "       satisfaction_level  last_evaluation  number_project  \\\n",
       "396                  0.46             0.57               2   \n",
       "866                  0.41             0.46               2   \n",
       "1317                 0.37             0.51               2   \n",
       "1368                 0.41             0.52               2   \n",
       "1461                 0.42             0.53               2   \n",
       "...                   ...              ...             ...   \n",
       "14994                0.40             0.57               2   \n",
       "14995                0.37             0.48               2   \n",
       "14996                0.37             0.53               2   \n",
       "14997                0.11             0.96               6   \n",
       "14998                0.37             0.52               2   \n",
       "\n",
       "       average_montly_hours  time_spend_company  Work_accident  left  \\\n",
       "396                     139                   3              0     1   \n",
       "866                     128                   3              0     1   \n",
       "1317                    127                   3              0     1   \n",
       "1368                    132                   3              0     1   \n",
       "1461                    142                   3              0     1   \n",
       "...                     ...                 ...            ...   ...   \n",
       "14994                   151                   3              0     1   \n",
       "14995                   160                   3              0     1   \n",
       "14996                   143                   3              0     1   \n",
       "14997                   280                   4              0     1   \n",
       "14998                   158                   3              0     1   \n",
       "\n",
       "       promotion_last_5years  sale  salary  \n",
       "396                        0     7       1  \n",
       "866                        0     2       1  \n",
       "1317                       0     7       2  \n",
       "1368                       0     1       1  \n",
       "1461                       0     7       1  \n",
       "...                      ...   ...     ...  \n",
       "14994                      0     8       1  \n",
       "14995                      0     8       1  \n",
       "14996                      0     8       1  \n",
       "14997                      0     8       1  \n",
       "14998                      0     8       1  \n",
       "\n",
       "[3008 rows x 10 columns]"
      ],
      "text/html": [
       "<div>\n",
       "<style scoped>\n",
       "    .dataframe tbody tr th:only-of-type {\n",
       "        vertical-align: middle;\n",
       "    }\n",
       "\n",
       "    .dataframe tbody tr th {\n",
       "        vertical-align: top;\n",
       "    }\n",
       "\n",
       "    .dataframe thead th {\n",
       "        text-align: right;\n",
       "    }\n",
       "</style>\n",
       "<table border=\"1\" class=\"dataframe\">\n",
       "  <thead>\n",
       "    <tr style=\"text-align: right;\">\n",
       "      <th></th>\n",
       "      <th>satisfaction_level</th>\n",
       "      <th>last_evaluation</th>\n",
       "      <th>number_project</th>\n",
       "      <th>average_montly_hours</th>\n",
       "      <th>time_spend_company</th>\n",
       "      <th>Work_accident</th>\n",
       "      <th>left</th>\n",
       "      <th>promotion_last_5years</th>\n",
       "      <th>sale</th>\n",
       "      <th>salary</th>\n",
       "    </tr>\n",
       "  </thead>\n",
       "  <tbody>\n",
       "    <tr>\n",
       "      <th>396</th>\n",
       "      <td>0.46</td>\n",
       "      <td>0.57</td>\n",
       "      <td>2</td>\n",
       "      <td>139</td>\n",
       "      <td>3</td>\n",
       "      <td>0</td>\n",
       "      <td>1</td>\n",
       "      <td>0</td>\n",
       "      <td>7</td>\n",
       "      <td>1</td>\n",
       "    </tr>\n",
       "    <tr>\n",
       "      <th>866</th>\n",
       "      <td>0.41</td>\n",
       "      <td>0.46</td>\n",
       "      <td>2</td>\n",
       "      <td>128</td>\n",
       "      <td>3</td>\n",
       "      <td>0</td>\n",
       "      <td>1</td>\n",
       "      <td>0</td>\n",
       "      <td>2</td>\n",
       "      <td>1</td>\n",
       "    </tr>\n",
       "    <tr>\n",
       "      <th>1317</th>\n",
       "      <td>0.37</td>\n",
       "      <td>0.51</td>\n",
       "      <td>2</td>\n",
       "      <td>127</td>\n",
       "      <td>3</td>\n",
       "      <td>0</td>\n",
       "      <td>1</td>\n",
       "      <td>0</td>\n",
       "      <td>7</td>\n",
       "      <td>2</td>\n",
       "    </tr>\n",
       "    <tr>\n",
       "      <th>1368</th>\n",
       "      <td>0.41</td>\n",
       "      <td>0.52</td>\n",
       "      <td>2</td>\n",
       "      <td>132</td>\n",
       "      <td>3</td>\n",
       "      <td>0</td>\n",
       "      <td>1</td>\n",
       "      <td>0</td>\n",
       "      <td>1</td>\n",
       "      <td>1</td>\n",
       "    </tr>\n",
       "    <tr>\n",
       "      <th>1461</th>\n",
       "      <td>0.42</td>\n",
       "      <td>0.53</td>\n",
       "      <td>2</td>\n",
       "      <td>142</td>\n",
       "      <td>3</td>\n",
       "      <td>0</td>\n",
       "      <td>1</td>\n",
       "      <td>0</td>\n",
       "      <td>7</td>\n",
       "      <td>1</td>\n",
       "    </tr>\n",
       "    <tr>\n",
       "      <th>...</th>\n",
       "      <td>...</td>\n",
       "      <td>...</td>\n",
       "      <td>...</td>\n",
       "      <td>...</td>\n",
       "      <td>...</td>\n",
       "      <td>...</td>\n",
       "      <td>...</td>\n",
       "      <td>...</td>\n",
       "      <td>...</td>\n",
       "      <td>...</td>\n",
       "    </tr>\n",
       "    <tr>\n",
       "      <th>14994</th>\n",
       "      <td>0.40</td>\n",
       "      <td>0.57</td>\n",
       "      <td>2</td>\n",
       "      <td>151</td>\n",
       "      <td>3</td>\n",
       "      <td>0</td>\n",
       "      <td>1</td>\n",
       "      <td>0</td>\n",
       "      <td>8</td>\n",
       "      <td>1</td>\n",
       "    </tr>\n",
       "    <tr>\n",
       "      <th>14995</th>\n",
       "      <td>0.37</td>\n",
       "      <td>0.48</td>\n",
       "      <td>2</td>\n",
       "      <td>160</td>\n",
       "      <td>3</td>\n",
       "      <td>0</td>\n",
       "      <td>1</td>\n",
       "      <td>0</td>\n",
       "      <td>8</td>\n",
       "      <td>1</td>\n",
       "    </tr>\n",
       "    <tr>\n",
       "      <th>14996</th>\n",
       "      <td>0.37</td>\n",
       "      <td>0.53</td>\n",
       "      <td>2</td>\n",
       "      <td>143</td>\n",
       "      <td>3</td>\n",
       "      <td>0</td>\n",
       "      <td>1</td>\n",
       "      <td>0</td>\n",
       "      <td>8</td>\n",
       "      <td>1</td>\n",
       "    </tr>\n",
       "    <tr>\n",
       "      <th>14997</th>\n",
       "      <td>0.11</td>\n",
       "      <td>0.96</td>\n",
       "      <td>6</td>\n",
       "      <td>280</td>\n",
       "      <td>4</td>\n",
       "      <td>0</td>\n",
       "      <td>1</td>\n",
       "      <td>0</td>\n",
       "      <td>8</td>\n",
       "      <td>1</td>\n",
       "    </tr>\n",
       "    <tr>\n",
       "      <th>14998</th>\n",
       "      <td>0.37</td>\n",
       "      <td>0.52</td>\n",
       "      <td>2</td>\n",
       "      <td>158</td>\n",
       "      <td>3</td>\n",
       "      <td>0</td>\n",
       "      <td>1</td>\n",
       "      <td>0</td>\n",
       "      <td>8</td>\n",
       "      <td>1</td>\n",
       "    </tr>\n",
       "  </tbody>\n",
       "</table>\n",
       "<p>3008 rows × 10 columns</p>\n",
       "</div>"
      ]
     },
     "execution_count": 86,
     "metadata": {},
     "output_type": "execute_result"
    }
   ],
   "execution_count": 86
  },
  {
   "metadata": {},
   "cell_type": "markdown",
   "source": "由于员工离职数据集数据总数为14999，其中包括重复数据3008条，重复数据占比较大，认为超出正常偶然情况，将其进行删除",
   "id": "3bf97b6aeb3a88d8"
  },
  {
   "metadata": {
    "ExecuteTime": {
     "end_time": "2024-06-24T04:38:33.782809Z",
     "start_time": "2024-06-24T04:38:33.766857Z"
    }
   },
   "cell_type": "code",
   "source": [
    "# 删除重复值\n",
    "data_change = data_change.drop_duplicates()\n",
    "data_change.shape"
   ],
   "id": "e6dfcfe54521c71e",
   "outputs": [
    {
     "data": {
      "text/plain": [
       "(11991, 10)"
      ]
     },
     "execution_count": 87,
     "metadata": {},
     "output_type": "execute_result"
    }
   ],
   "execution_count": 87
  },
  {
   "metadata": {},
   "cell_type": "markdown",
   "source": "# 探索性数据分析",
   "id": "2ffd7b5b21671c6f"
  },
  {
   "metadata": {},
   "cell_type": "markdown",
   "source": "## 描述性分析\n",
   "id": "dfba1433dfdd3ab4"
  },
  {
   "metadata": {
    "ExecuteTime": {
     "end_time": "2024-06-23T13:24:41.977186Z",
     "start_time": "2024-06-23T13:24:41.949944Z"
    }
   },
   "cell_type": "code",
   "source": "data_change.describe().T",
   "id": "cb492e135727e9bf",
   "outputs": [
    {
     "data": {
      "text/plain": [
       "                         count        mean        std    min     25%     50%  \\\n",
       "satisfaction_level     11991.0    0.629658   0.241070   0.09    0.48    0.66   \n",
       "last_evaluation        11991.0    0.716683   0.168343   0.36    0.57    0.72   \n",
       "number_project         11991.0    3.802852   1.163238   2.00    3.00    4.00   \n",
       "average_montly_hours   11991.0  200.473522  48.727813  96.00  157.00  200.00   \n",
       "time_spend_company     11991.0    3.364857   1.330240   2.00    3.00    3.00   \n",
       "Work_accident          11991.0    0.154282   0.361234   0.00    0.00    0.00   \n",
       "left                   11991.0    0.166041   0.372133   0.00    0.00    0.00   \n",
       "promotion_last_5years  11991.0    0.016929   0.129012   0.00    0.00    0.00   \n",
       "sale                   11991.0    5.871153   2.899022   0.00    4.00    7.00   \n",
       "salary                 11991.0    1.356184   0.628071   0.00    1.00    1.00   \n",
       "\n",
       "                          75%    max  \n",
       "satisfaction_level       0.82    1.0  \n",
       "last_evaluation          0.86    1.0  \n",
       "number_project           5.00    7.0  \n",
       "average_montly_hours   243.00  310.0  \n",
       "time_spend_company       4.00   10.0  \n",
       "Work_accident            0.00    1.0  \n",
       "left                     0.00    1.0  \n",
       "promotion_last_5years    0.00    1.0  \n",
       "sale                     8.00    9.0  \n",
       "salary                   2.00    2.0  "
      ],
      "text/html": [
       "<div>\n",
       "<style scoped>\n",
       "    .dataframe tbody tr th:only-of-type {\n",
       "        vertical-align: middle;\n",
       "    }\n",
       "\n",
       "    .dataframe tbody tr th {\n",
       "        vertical-align: top;\n",
       "    }\n",
       "\n",
       "    .dataframe thead th {\n",
       "        text-align: right;\n",
       "    }\n",
       "</style>\n",
       "<table border=\"1\" class=\"dataframe\">\n",
       "  <thead>\n",
       "    <tr style=\"text-align: right;\">\n",
       "      <th></th>\n",
       "      <th>count</th>\n",
       "      <th>mean</th>\n",
       "      <th>std</th>\n",
       "      <th>min</th>\n",
       "      <th>25%</th>\n",
       "      <th>50%</th>\n",
       "      <th>75%</th>\n",
       "      <th>max</th>\n",
       "    </tr>\n",
       "  </thead>\n",
       "  <tbody>\n",
       "    <tr>\n",
       "      <th>satisfaction_level</th>\n",
       "      <td>11991.0</td>\n",
       "      <td>0.629658</td>\n",
       "      <td>0.241070</td>\n",
       "      <td>0.09</td>\n",
       "      <td>0.48</td>\n",
       "      <td>0.66</td>\n",
       "      <td>0.82</td>\n",
       "      <td>1.0</td>\n",
       "    </tr>\n",
       "    <tr>\n",
       "      <th>last_evaluation</th>\n",
       "      <td>11991.0</td>\n",
       "      <td>0.716683</td>\n",
       "      <td>0.168343</td>\n",
       "      <td>0.36</td>\n",
       "      <td>0.57</td>\n",
       "      <td>0.72</td>\n",
       "      <td>0.86</td>\n",
       "      <td>1.0</td>\n",
       "    </tr>\n",
       "    <tr>\n",
       "      <th>number_project</th>\n",
       "      <td>11991.0</td>\n",
       "      <td>3.802852</td>\n",
       "      <td>1.163238</td>\n",
       "      <td>2.00</td>\n",
       "      <td>3.00</td>\n",
       "      <td>4.00</td>\n",
       "      <td>5.00</td>\n",
       "      <td>7.0</td>\n",
       "    </tr>\n",
       "    <tr>\n",
       "      <th>average_montly_hours</th>\n",
       "      <td>11991.0</td>\n",
       "      <td>200.473522</td>\n",
       "      <td>48.727813</td>\n",
       "      <td>96.00</td>\n",
       "      <td>157.00</td>\n",
       "      <td>200.00</td>\n",
       "      <td>243.00</td>\n",
       "      <td>310.0</td>\n",
       "    </tr>\n",
       "    <tr>\n",
       "      <th>time_spend_company</th>\n",
       "      <td>11991.0</td>\n",
       "      <td>3.364857</td>\n",
       "      <td>1.330240</td>\n",
       "      <td>2.00</td>\n",
       "      <td>3.00</td>\n",
       "      <td>3.00</td>\n",
       "      <td>4.00</td>\n",
       "      <td>10.0</td>\n",
       "    </tr>\n",
       "    <tr>\n",
       "      <th>Work_accident</th>\n",
       "      <td>11991.0</td>\n",
       "      <td>0.154282</td>\n",
       "      <td>0.361234</td>\n",
       "      <td>0.00</td>\n",
       "      <td>0.00</td>\n",
       "      <td>0.00</td>\n",
       "      <td>0.00</td>\n",
       "      <td>1.0</td>\n",
       "    </tr>\n",
       "    <tr>\n",
       "      <th>left</th>\n",
       "      <td>11991.0</td>\n",
       "      <td>0.166041</td>\n",
       "      <td>0.372133</td>\n",
       "      <td>0.00</td>\n",
       "      <td>0.00</td>\n",
       "      <td>0.00</td>\n",
       "      <td>0.00</td>\n",
       "      <td>1.0</td>\n",
       "    </tr>\n",
       "    <tr>\n",
       "      <th>promotion_last_5years</th>\n",
       "      <td>11991.0</td>\n",
       "      <td>0.016929</td>\n",
       "      <td>0.129012</td>\n",
       "      <td>0.00</td>\n",
       "      <td>0.00</td>\n",
       "      <td>0.00</td>\n",
       "      <td>0.00</td>\n",
       "      <td>1.0</td>\n",
       "    </tr>\n",
       "    <tr>\n",
       "      <th>sale</th>\n",
       "      <td>11991.0</td>\n",
       "      <td>5.871153</td>\n",
       "      <td>2.899022</td>\n",
       "      <td>0.00</td>\n",
       "      <td>4.00</td>\n",
       "      <td>7.00</td>\n",
       "      <td>8.00</td>\n",
       "      <td>9.0</td>\n",
       "    </tr>\n",
       "    <tr>\n",
       "      <th>salary</th>\n",
       "      <td>11991.0</td>\n",
       "      <td>1.356184</td>\n",
       "      <td>0.628071</td>\n",
       "      <td>0.00</td>\n",
       "      <td>1.00</td>\n",
       "      <td>1.00</td>\n",
       "      <td>2.00</td>\n",
       "      <td>2.0</td>\n",
       "    </tr>\n",
       "  </tbody>\n",
       "</table>\n",
       "</div>"
      ]
     },
     "execution_count": 14,
     "metadata": {},
     "output_type": "execute_result"
    }
   ],
   "execution_count": 14
  },
  {
   "metadata": {
    "ExecuteTime": {
     "end_time": "2024-06-23T13:24:43.133934Z",
     "start_time": "2024-06-23T13:24:42.552163Z"
    }
   },
   "cell_type": "code",
   "source": [
    "data_count = data_change['left'].value_counts()\n",
    "data_count"
   ],
   "id": "21aeda78bd820fdd",
   "outputs": [
    {
     "data": {
      "text/plain": [
       "left\n",
       "0    10000\n",
       "1     1991\n",
       "Name: count, dtype: int64"
      ]
     },
     "execution_count": 15,
     "metadata": {},
     "output_type": "execute_result"
    }
   ],
   "execution_count": 15
  },
  {
   "metadata": {},
   "cell_type": "markdown",
   "source": "### 1. 标签数据可视化",
   "id": "64dcca9f4f4d5e94"
  },
  {
   "metadata": {
    "ExecuteTime": {
     "end_time": "2024-06-23T13:24:44.423401Z",
     "start_time": "2024-06-23T13:24:44.364699Z"
    }
   },
   "cell_type": "code",
   "source": [
    "# 获取数据\n",
    "data_x = data_count.keys().tolist()\n",
    "# 替换\n",
    "data_x = ['已离职' if x == 1 else '未离职' for x in data_x]\n",
    "data_y = data_count.values.tolist()\n",
    "data_pie = [*zip(data_x, data_y)]\n",
    "\n",
    "# 绘制饼图\n",
    "c = (\n",
    "    Pie()\n",
    "    .add(series_name=\"left\",data_pair=data_pie)\n",
    "    .set_global_opts(title_opts=opts.TitleOpts(title=\"离职与未离职占比饼图\"))\n",
    "    .set_series_opts(label_opts=opts.LabelOpts(formatter = \"{b}: {c} ({d}%)\"))\n",
    "    .render(\"离职与未离职占比饼图.html\")\n",
    ")"
   ],
   "id": "4911f5e44c9d0b0b",
   "outputs": [],
   "execution_count": 16
  },
  {
   "metadata": {},
   "cell_type": "markdown",
   "source": "经过初步数据预处理后，数据集大小为11991条，其中已离职为1991条，占16.6%；为离职为10000，占83.4%",
   "id": "da273ee5bd800626"
  },
  {
   "metadata": {},
   "cell_type": "markdown",
   "source": "### 2.1 满意度与是否离职的关系",
   "id": "b3add9ae54549594"
  },
  {
   "metadata": {},
   "cell_type": "markdown",
   "source": "满意度是连续性变量，选择绘制直方图",
   "id": "788fda85b679f11b"
  },
  {
   "metadata": {
    "ExecuteTime": {
     "end_time": "2024-06-23T10:00:05.925309Z",
     "start_time": "2024-06-23T10:00:05.894071Z"
    }
   },
   "cell_type": "code",
   "source": [
    "# 获取数据\n",
    "satisfaction_data = pd.crosstab(data_change['satisfaction_level'], data_change['left'])\n",
    "satisfaction_data.columns = ['未离职', '已离职']\n",
    "satisfaction_data.reset_index(inplace=True)\n",
    "# 设置分箱宽度\n",
    "bin_width = 0.1\n",
    "bins = np.arange(0, 1.1, bin_width)  # 分成 0 到 1 之间的箱子\n",
    "\n",
    "# 使用 pandas 的 cut 函数将数据分箱\n",
    "satisfaction_data['satisfaction_bins'] = pd.cut(satisfaction_data['satisfaction_level'], bins)\n",
    "\n",
    "# 按照分箱后的满意度计算人数\n",
    "hist_data = satisfaction_data.groupby('satisfaction_bins').agg({'未离职': 'sum', '已离职': 'sum'}).reset_index()\n",
    "\n",
    "# 提取直方图的横坐标（取每个箱子的中心点）\n",
    "x_data = [round((bins[i] + bins[i+1]) / 2, 2) for i in range(len(bins) - 1)]\n",
    "# 绘制直方图\n",
    "bar = (\n",
    "    Bar()\n",
    "    .add_xaxis(x_data)\n",
    "    .add_yaxis('未离职', hist_data['未离职'].tolist(), stack='stack1')\n",
    "    .add_yaxis('已离职', hist_data['已离职'].tolist(), stack='stack1')\n",
    "    .set_series_opts(label_opts=opts.LabelOpts(is_show=False))\n",
    "    .set_global_opts(\n",
    "        title_opts=opts.TitleOpts(title=\"满意度与是否离职的关系直方图\"),\n",
    "        xaxis_opts=opts.AxisOpts(name='满意度'),\n",
    "        yaxis_opts=opts.AxisOpts(name='人数'),\n",
    "        legend_opts=opts.LegendOpts(is_show=True),\n",
    "        tooltip_opts=opts.TooltipOpts(formatter=\"{a}<br/>{b} : {c}\")\n",
    "    )\n",
    "    .render('满意度与是否离职的关系直方图.html')\n",
    ")\n"
   ],
   "id": "76013f96d0d38f9e",
   "outputs": [],
   "execution_count": 282
  },
  {
   "metadata": {},
   "cell_type": "markdown",
   "source": [
    "- 离职率在员工满意度较低时较高，在满意度中心点取值为0.05时离职率达100%\n",
    "- 离职率在员工满意度升高时，不断提高，在满意度中心点取值为0.75时，较满意度中心点取值为0.65的离职率1.5%提升至13.1%"
   ],
   "id": "8649b7e52abcc223"
  },
  {
   "metadata": {},
   "cell_type": "markdown",
   "source": "### 2.2 上次绩效评分与是否离职的关系",
   "id": "1bdc309106be4d95"
  },
  {
   "metadata": {},
   "cell_type": "markdown",
   "source": "由于绩效评分为连续数据，选择绘制直方图",
   "id": "32df9ba259d11de3"
  },
  {
   "metadata": {
    "ExecuteTime": {
     "end_time": "2024-06-23T10:01:58.684485Z",
     "start_time": "2024-06-23T10:01:58.646344Z"
    }
   },
   "cell_type": "code",
   "source": [
    "# 获取数据\n",
    "evaluation_data = pd.crosstab(data_change['last_evaluation'], data_change['left'])\n",
    "evaluation_data.columns = ['未离职', '已离职']\n",
    "evaluation_data.reset_index(inplace=True)\n",
    "# 设置分箱宽度\n",
    "bin_width = 0.05\n",
    "bins = np.arange(0.5, 1.05, bin_width)  # 观察数据，最小评分数为0.5 分成 0.5 到 1 之间的箱子\n",
    "\n",
    "# 使用 pandas 的 cut 函数将数据分箱\n",
    "evaluation_data['evaluation_bins'] = pd.cut(evaluation_data['last_evaluation'], bins)\n",
    "\n",
    "# 按照分箱后的满意度计算人数\n",
    "hist_data = evaluation_data.groupby('evaluation_bins').agg({'未离职': 'sum', '已离职': 'sum'}).reset_index()\n",
    "\n",
    "# 提取直方图的横坐标（取每个箱子的中心点）\n",
    "x_data = [round((bins[i] + bins[i+1]) / 2, 2) for i in range(len(bins) - 1)]\n",
    "\n",
    "# 绘制直方图\n",
    "bar = (\n",
    "    Bar()\n",
    "    .add_xaxis(x_data)\n",
    "    .add_yaxis('未离职', hist_data['未离职'].tolist(), stack='stack1',z=0)\n",
    "    .add_yaxis('已离职', hist_data['已离职'].tolist(), stack='stack1',z=0)\n",
    "    .set_series_opts(label_opts=opts.LabelOpts(is_show=False))\n",
    "    .extend_axis(\n",
    "        yaxis=opts.AxisOpts(\n",
    "            # 设置y轴属性\n",
    "            type_=\"value\",  \n",
    "            # 给y轴设置名称\n",
    "            name=\"离职率(%)\",  \n",
    "            # 轴名称位于中间\n",
    "            name_location=\"center\",  \n",
    "            # 轴名称与轴线距离30px\n",
    "            name_gap=30,  \n",
    "            splitline_opts=opts.SplitLineOpts(  \n",
    "            # 显示分割线\n",
    "                is_show=True, linestyle_opts=opts.LineStyleOpts(opacity=1)  # 图形透明度。支持从0到1的数字，为0时不绘图。\n",
    "            ))\n",
    "    )\n",
    "    .set_global_opts(\n",
    "        yaxis_opts=opts.AxisOpts(\n",
    "            name='人数',\n",
    "            name_location=\"center\",  # 设置名称位置\n",
    "            name_gap=60,  # 设置轴名称与轴线之间的距离\n",
    "        ),\n",
    "        title_opts=opts.TitleOpts(title=\"上次绩效评分与是否离职的关系\"),\n",
    "        # 图例设置\n",
    "        legend_opts=opts.LegendOpts(pos_left='40%', pos_bottom='89%'),\n",
    "        # 设置提示框和指示器\n",
    "        tooltip_opts=opts.TooltipOpts(trigger=\"axis\", axis_pointer_type=\"cross\")\n",
    "    )\n",
    ")\n",
    "\n",
    "# 计算每个项目数对应的离职率\n",
    "leave_rate = hist_data['已离职']/(hist_data['已离职'] + hist_data['未离职'])\n",
    "leave_rate = round(leave_rate, 2)\n",
    "# 提取项目数和离职率\n",
    "leave_rate = leave_rate.tolist()\n",
    "# 创建折线图\n",
    "line = (\n",
    "    Line()\n",
    "    .add_xaxis(list(range(0, len(leave_rate), 1)))\n",
    "    .add_yaxis(series_name=\"离职率(%)\", \n",
    "               y_axis=leave_rate, \n",
    "               yaxis_index=1,         \n",
    "               label_opts=opts.LabelOpts(is_show=False, font_size=10, font_weight='bold'),\n",
    "               linestyle_opts=opts.LineStyleOpts(width=3)  \n",
    "               )\n",
    ")\n",
    "bar.overlap(line)\n",
    "bar.render('上次绩效评分与是否离职的关系组合图.html')\n",
    "\n"
   ],
   "id": "95b2c55dc2e451b3",
   "outputs": [
    {
     "data": {
      "text/plain": [
       "'D:\\\\python\\\\school\\\\2_刘自闲_员工离职数据集\\\\上次绩效评分与是否离职的关系组合图.html'"
      ]
     },
     "execution_count": 284,
     "metadata": {},
     "output_type": "execute_result"
    }
   ],
   "execution_count": 284
  },
  {
   "metadata": {},
   "cell_type": "markdown",
   "source": [
    "根据直方图显示，离职率随上次绩效评分的逐渐增高呈先降低后升高的趋势\n",
    "- 上次绩效评分中心点取值为0.52时离职率为26.0%\n",
    "- 在上次绩效评分中心点取值为0.68时达到最低1%\n",
    "- 后逐渐增高，在上次绩效评分中心点取值为0.98时离职率为24%"
   ],
   "id": "62454f32cad27ca"
  },
  {
   "metadata": {},
   "cell_type": "markdown",
   "source": "### 2.3 项目数与是否离职的关系",
   "id": "c22107f85a4f3c4e"
  },
  {
   "metadata": {
    "ExecuteTime": {
     "end_time": "2024-06-23T10:02:57.830563Z",
     "start_time": "2024-06-23T10:02:57.799327Z"
    }
   },
   "cell_type": "code",
   "source": [
    "# 创建交叉表\n",
    "number_project_data = pd.crosstab(data_change['number_project'], data_change['left'])\n",
    "number_project_data.columns = ['未离职', '已离职']\n",
    "number_project_data.reset_index(inplace=True)\n",
    "\n",
    "# 构建数据\n",
    "list_number_project = number_project_data['number_project'].tolist()\n",
    "list_not_left = number_project_data['未离职'].tolist()\n",
    "list_left = number_project_data['已离职'].tolist()\n",
    "# 绘制柱状图\n",
    "bar = (\n",
    "    Bar()\n",
    "    .add_xaxis(list_number_project)\n",
    "    .add_yaxis(series_name='未离职', y_axis=list_not_left,yaxis_index=0, stack='stack1',z=0)\n",
    "    .add_yaxis(series_name ='已离职',y_axis=list_left, yaxis_index=0, stack='stack1', z=0)\n",
    "    .extend_axis(\n",
    "        yaxis=opts.AxisOpts(\n",
    "            # 设置y轴属性\n",
    "            type_=\"value\",  \n",
    "            # 给y轴设置名称\n",
    "            name=\"离职率(%)\",  \n",
    "            # 轴名称位于中间\n",
    "            name_location=\"center\",  \n",
    "            # 轴名称与轴线距离30px\n",
    "            name_gap=30,  \n",
    "            )\n",
    "    )\n",
    "    .set_global_opts(\n",
    "        yaxis_opts=opts.AxisOpts(\n",
    "            name='人数',\n",
    "            name_location=\"center\",  # 设置名称位置\n",
    "            name_gap=60,  # 设置轴名称与轴线之间的距离\n",
    "        ),\n",
    "        title_opts=opts.TitleOpts(title=\"项目数与是否离职的关系\"),\n",
    "        # 图例设置\n",
    "        legend_opts=opts.LegendOpts(pos_left='40%', pos_bottom='89%'),\n",
    "        # 设置提示框和指示器\n",
    "        tooltip_opts=opts.TooltipOpts(trigger=\"axis\", axis_pointer_type=\"cross\")\n",
    "    )\n",
    "    \n",
    ")\n",
    "\n",
    "# 计算每个项目数对应的离职率\n",
    "leave_rate = number_project_data['已离职']/(number_project_data['已离职'] + number_project_data['未离职'])\n",
    "leave_rate = round(leave_rate, 2)\n",
    "# 提取项目数和离职率\n",
    "leave_rate = leave_rate.tolist()\n",
    "# 创建折线图\n",
    "line = (\n",
    "    Line()\n",
    "    .add_xaxis(list(range(0, len(leave_rate), 1)))\n",
    "    .add_yaxis(series_name=\"离职率(%)\", \n",
    "               y_axis=leave_rate, \n",
    "               yaxis_index=1,         \n",
    "               label_opts=opts.LabelOpts(is_show=False, font_size=10, font_weight='bold')\n",
    "               )\n",
    ")\n",
    "bar.overlap(line)\n",
    "bar.render('项目数与是否离职的关系组合图.html')\n"
   ],
   "id": "15a78cca734ea37",
   "outputs": [
    {
     "data": {
      "text/plain": [
       "'D:\\\\python\\\\school\\\\2_刘自闲_员工离职数据集\\\\项目数与是否离职的关系组合图.html'"
      ]
     },
     "execution_count": 285,
     "metadata": {},
     "output_type": "execute_result"
    }
   ],
   "execution_count": 285
  },
  {
   "metadata": {},
   "cell_type": "markdown",
   "source": [
    "根据离职率折线图显示，离职率随项目数逐渐增高呈现先降低后上升的趋势\n",
    "- 在完成项目数为2时，离职率为54%\n",
    "- 在完成项目数为3时，离职率达最低为1%\n",
    "- 后逐渐上升，在完成项目数为7时，离职率达最高为100%"
   ],
   "id": "6d0a32783d707aaa"
  },
  {
   "metadata": {},
   "cell_type": "markdown",
   "source": "### 2.4 月平均工作小时数与是否离职的关系",
   "id": "2e1e7535513a9baa"
  },
  {
   "metadata": {
    "ExecuteTime": {
     "end_time": "2024-06-23T10:03:29.215347Z",
     "start_time": "2024-06-23T10:03:29.168070Z"
    }
   },
   "cell_type": "code",
   "source": [
    "# 获取数据\n",
    "montly_hours_data = pd.crosstab(data_change['average_montly_hours'], data_change['left'])\n",
    "montly_hours_data.columns = ['未离职', '已离职']\n",
    "montly_hours_data.reset_index(inplace=True)\n",
    "# 设置分箱宽度\n",
    "bin_width = 20\n",
    "bins = np.arange(80, 330, bin_width)  # 分成 95 到 330 之间的箱子\n",
    "\n",
    "# 使用 pandas 的 cut 函数将数据分箱\n",
    "montly_hours_data['average_montly_hours'] = pd.cut(montly_hours_data['average_montly_hours'], bins)\n",
    "\n",
    "# 按照分箱后的满意度计算人数\n",
    "hist_data = montly_hours_data.groupby('average_montly_hours').agg({'未离职': 'sum', '已离职': 'sum'}).reset_index()\n",
    "\n",
    "# 提取直方图的横坐标（取每个箱子的中心点）\n",
    "x_data = [round((bins[i] + bins[i+1]) / 2, 2) for i in range(len(bins) - 1)]\n",
    "# 绘制直方图\n",
    "bar = (\n",
    "    Bar()\n",
    "    .add_xaxis(x_data)\n",
    "    .add_yaxis('未离职', hist_data['未离职'].tolist(), stack='stack1',z=0)\n",
    "    .add_yaxis('已离职', hist_data['已离职'].tolist(), stack='stack1',z=0)\n",
    "    .set_series_opts(label_opts=opts.LabelOpts(is_show=False))\n",
    "    .extend_axis(\n",
    "        yaxis=opts.AxisOpts(\n",
    "            # 设置y轴属性\n",
    "            type_=\"value\",  \n",
    "            # 给y轴设置名称\n",
    "            name=\"离职率(%)\",  \n",
    "            # 轴名称位于中间\n",
    "            name_location=\"center\",  \n",
    "            # 轴名称与轴线距离30px\n",
    "            name_gap=30,  \n",
    "            splitline_opts=opts.SplitLineOpts(  \n",
    "            # 显示分割线\n",
    "                is_show=True, linestyle_opts=opts.LineStyleOpts(opacity=1)  # 图形透明度。支持从0到1的数字，为0时不绘图。\n",
    "            ))\n",
    "    )\n",
    "    .set_global_opts(\n",
    "        yaxis_opts=opts.AxisOpts(\n",
    "            name='人数',\n",
    "            name_location=\"center\",  # 设置名称位置\n",
    "            name_gap=60,  # 设置轴名称与轴线之间的距离\n",
    "        ),\n",
    "        title_opts=opts.TitleOpts(title=\"月平均工作小时数与是否离职的关系直方图\"),\n",
    "        # 图例设置\n",
    "        legend_opts=opts.LegendOpts(pos_left='40%', pos_bottom='89%'),\n",
    "        # 设置提示框和指示器\n",
    "        tooltip_opts=opts.TooltipOpts(trigger=\"axis\", axis_pointer_type=\"cross\")\n",
    "    )\n",
    ")\n",
    "\n",
    "# 计算每个项目数对应的离职率\n",
    "leave_rate = hist_data['已离职']/(hist_data['已离职'] + hist_data['未离职'])\n",
    "leave_rate = round(leave_rate, 2)\n",
    "# 提取项目数和离职率\n",
    "leave_rate = leave_rate.tolist()\n",
    "# 创建折线图\n",
    "line = (\n",
    "    Line()\n",
    "    .add_xaxis(list(range(0, len(leave_rate), 1)))\n",
    "    .add_yaxis(series_name=\"离职率(%)\", \n",
    "               y_axis=leave_rate, \n",
    "               yaxis_index=1,         \n",
    "               label_opts=opts.LabelOpts(is_show=False, font_size=10, font_weight='bold'),\n",
    "               linestyle_opts=opts.LineStyleOpts(width=3)  \n",
    "               )\n",
    ")\n",
    "bar.overlap(line)\n",
    "bar.render('月平均工作小时数与是否离职的关系组合图.html')\n"
   ],
   "id": "a6d7c148fc5c8815",
   "outputs": [
    {
     "data": {
      "text/plain": [
       "'D:\\\\python\\\\school\\\\2_刘自闲_员工离职数据集\\\\月平均工作小时数与是否离职的关系组合图.html'"
      ]
     },
     "execution_count": 286,
     "metadata": {},
     "output_type": "execute_result"
    }
   ],
   "execution_count": 286
  },
  {
   "metadata": {},
   "cell_type": "markdown",
   "source": [
    "根据图中折线显示，离职率随月平均工作小时增加而上升\n",
    "- 月平均工作小时越高，离职率越高\n",
    "- 月平均工作小时在300-320的员工，离职率高达100%"
   ],
   "id": "d718382452d6245a"
  },
  {
   "metadata": {},
   "cell_type": "markdown",
   "source": "### 2.5 在公司工作年限与是否离职的关系",
   "id": "75a6e322ecb6b032"
  },
  {
   "metadata": {
    "ExecuteTime": {
     "end_time": "2024-06-23T10:04:19.454843Z",
     "start_time": "2024-06-23T10:04:19.423279Z"
    }
   },
   "cell_type": "code",
   "source": [
    "# 创建交叉表\n",
    "spend_company_data = pd.crosstab(data_change['time_spend_company'], data_change['left'])\n",
    "spend_company_data.columns = ['未离职', '已离职']\n",
    "spend_company_data.reset_index(inplace=True)\n",
    "\n",
    "# 构建数据\n",
    "list_spend_company = spend_company_data['time_spend_company'].tolist()\n",
    "list_not_left = spend_company_data['未离职'].tolist()\n",
    "list_left = spend_company_data['已离职'].tolist()\n",
    "# 绘制柱状图\n",
    "bar = (\n",
    "    Bar()\n",
    "    .add_xaxis(list_spend_company)\n",
    "    .add_yaxis(series_name='未离职', y_axis=list_not_left,yaxis_index=0, stack='stack1',z=0)\n",
    "    .add_yaxis(series_name ='已离职',y_axis=list_left, yaxis_index=0, stack='stack1', z=0)\n",
    "    .extend_axis(\n",
    "        yaxis=opts.AxisOpts(\n",
    "            # 设置y轴属性\n",
    "            type_=\"value\",  \n",
    "            # 给y轴设置名称\n",
    "            name=\"离职率(%)\",  \n",
    "            # 轴名称位于中间\n",
    "            name_location=\"center\",  \n",
    "            # 轴名称与轴线距离30px\n",
    "            name_gap=30,  \n",
    "            )\n",
    "    )\n",
    "    .set_global_opts(\n",
    "        yaxis_opts=opts.AxisOpts(\n",
    "            name='人数',\n",
    "            name_location=\"center\",  # 设置名称位置\n",
    "            name_gap=60,  # 设置轴名称与轴线之间的距离\n",
    "        ),\n",
    "        title_opts=opts.TitleOpts(title=\"在公司工作年限与是否离职的关系\"),\n",
    "        # 图例设置\n",
    "        legend_opts=opts.LegendOpts(pos_left='40%', pos_bottom='89%'),\n",
    "        # 设置提示框和指示器\n",
    "        tooltip_opts=opts.TooltipOpts(trigger=\"axis\", axis_pointer_type=\"cross\")\n",
    "    )\n",
    "    \n",
    ")\n",
    "\n",
    "# 计算每个项目数对应的离职率\n",
    "leave_rate = spend_company_data['已离职']/(spend_company_data['已离职'] + spend_company_data['未离职'])\n",
    "leave_rate = round(leave_rate, 2)\n",
    "# 提取项目数和离职率\n",
    "leave_rate = leave_rate.tolist()\n",
    "# 创建折线图\n",
    "line = (\n",
    "    Line()\n",
    "    .add_xaxis(list(range(0, len(leave_rate), 1)))\n",
    "    .add_yaxis(series_name=\"离职率(%)\", \n",
    "               y_axis=leave_rate, \n",
    "               yaxis_index=1,         \n",
    "               label_opts=opts.LabelOpts(is_show=False, font_size=10, font_weight='bold')\n",
    "               )\n",
    ")\n",
    "bar.overlap(line)\n",
    "bar.render('在公司工作年限与是否离职的关系组合图.html')\n"
   ],
   "id": "9966678d0a93f795",
   "outputs": [
    {
     "data": {
      "text/plain": [
       "'D:\\\\python\\\\school\\\\2_刘自闲_员工离职数据集\\\\在公司工作年限与是否离职的关系组合图.html'"
      ]
     },
     "execution_count": 287,
     "metadata": {},
     "output_type": "execute_result"
    }
   ],
   "execution_count": 287
  },
  {
   "metadata": {},
   "cell_type": "markdown",
   "source": [
    "根据图内折线图显示，随在公司工作年限的增加，离职率呈现先上升后下降的趋势\n",
    "- 在公司工作年限为2年时，离职率为1%\n",
    "- 在公司工作年限为5年时，离职率最高达45%\n",
    "- 后随工作年限增加离职率下降，在公司工作年限为7年时，离职率降低为0%"
   ],
   "id": "bc7fdb44f95b5772"
  },
  {
   "metadata": {},
   "cell_type": "markdown",
   "source": "### 2.6 是否发生工作事故与是否离职的关系",
   "id": "3d6454731d81a71b"
  },
  {
   "metadata": {
    "ExecuteTime": {
     "end_time": "2024-06-23T10:04:36.893587Z",
     "start_time": "2024-06-23T10:04:36.862258Z"
    }
   },
   "cell_type": "code",
   "source": [
    "# 创建交叉表\n",
    "work_accident_data = pd.crosstab(data_change['Work_accident'], data_change['left'])\n",
    "work_accident_data.columns = ['未离职', '已离职']\n",
    "work_accident_data.reset_index(inplace=True)\n",
    "\n",
    "# 构建数据\n",
    "list_work_accident = work_accident_data['Work_accident'].tolist()\n",
    "list_work_accident = ['发生过工作事故' if i == 1 else '未发生过工作事故' for i in list_work_accident]\n",
    "list_not_left = work_accident_data['未离职'].tolist()\n",
    "list_left = work_accident_data['已离职'].tolist()\n",
    "\n",
    "bar = (\n",
    "    Bar()\n",
    "    .add_xaxis(list_work_accident)\n",
    "    .add_yaxis(series_name='未离职', y_axis=list_not_left,yaxis_index=0, stack='stack1', z=0)\n",
    "    .add_yaxis(series_name ='已离职',y_axis=list_left, yaxis_index=0, stack='stack1', z=0)\n",
    "    .extend_axis(\n",
    "        yaxis=opts.AxisOpts(\n",
    "            # 设置y轴属性\n",
    "            type_=\"value\",  \n",
    "            # 给y轴设置名称\n",
    "            name=\"离职率(%)\",  \n",
    "            # 轴名称位于中间\n",
    "            name_location=\"center\",  \n",
    "            # 轴名称与轴线距离30px\n",
    "            name_gap=30,  \n",
    "            )\n",
    "    )\n",
    "    .set_global_opts(\n",
    "        yaxis_opts=opts.AxisOpts(\n",
    "            name='人数',\n",
    "            name_location=\"center\",  # 设置名称位置\n",
    "            name_gap=60,  # 设置轴名称与轴线之间的距离\n",
    "        ),\n",
    "        title_opts=opts.TitleOpts(title=\"是否发生过工作事故和是否离职的关系\"),\n",
    "        # 图例设置\n",
    "        legend_opts=opts.LegendOpts(pos_left='40%', pos_bottom='89%'),\n",
    "        # 设置提示框和指示器\n",
    "        tooltip_opts=opts.TooltipOpts(trigger=\"axis\", axis_pointer_type=\"cross\")\n",
    "    )\n",
    ")\n",
    "\n",
    "leave_rate = work_accident_data['已离职']/(work_accident_data['已离职'] + work_accident_data['未离职'])\n",
    "leave_rate = round(leave_rate, 2)\n",
    "# 提取项目数和离职率\n",
    "leave_rate = leave_rate.tolist()\n",
    "# 创建折线图\n",
    "line = (\n",
    "    Line()\n",
    "    .add_xaxis(list(range(0, len(leave_rate), 1)))\n",
    "    .add_yaxis(series_name=\"离职率(%)\", \n",
    "               y_axis=leave_rate, \n",
    "               yaxis_index=1,         \n",
    "               label_opts=opts.LabelOpts(is_show=False, font_size=10, font_weight='bold')\n",
    "               )\n",
    ")\n",
    "bar.overlap(line)\n",
    "bar.render('是否发生过工作事故和是否离职的关系组合图.html')"
   ],
   "id": "33e6673ac38f4f4",
   "outputs": [
    {
     "data": {
      "text/plain": [
       "'D:\\\\python\\\\school\\\\2_刘自闲_员工离职数据集\\\\是否发生过工作事故和是否离职的关系组合图.html'"
      ]
     },
     "execution_count": 288,
     "metadata": {},
     "output_type": "execute_result"
    }
   ],
   "execution_count": 288
  },
  {
   "metadata": {},
   "cell_type": "markdown",
   "source": [
    "发生过工作事故的离职率为6%，未发生工作事故的离职率为19%\n",
    "- 未发生过工作事故比发生过工作事故的离职率稍高一点，差别较小\n",
    "- 认为是否发生过工作事故对离职率的影响较小"
   ],
   "id": "6377cdda20ddb140"
  },
  {
   "metadata": {},
   "cell_type": "markdown",
   "source": "### 2.7 最近五年升职与是否离职的关系",
   "id": "4521e2cdadf74f8c"
  },
  {
   "metadata": {
    "ExecuteTime": {
     "end_time": "2024-06-23T10:04:57.590081Z",
     "start_time": "2024-06-23T10:04:57.559329Z"
    }
   },
   "cell_type": "code",
   "source": [
    "# 创建交叉表\n",
    "promotion_data = pd.crosstab(data_change['promotion_last_5years'], data_change['left'])\n",
    "promotion_data.columns = ['未离职', '已离职']\n",
    "promotion_data.reset_index(inplace=True)\n",
    "\n",
    "# 构建数据\n",
    "list_promotion = promotion_data['promotion_last_5years'].tolist()\n",
    "list_promotion = ['5年内升职' if i == 1 else '5年内未升职' for i in list_promotion]\n",
    "list_not_left = promotion_data['未离职'].tolist()\n",
    "list_left = promotion_data['已离职'].tolist()\n",
    "\n",
    "bar = (\n",
    "    Bar()\n",
    "    .add_xaxis(list_promotion)\n",
    "    .add_yaxis(series_name='未离职', y_axis=list_not_left,yaxis_index=0, stack='stack1', z=0)\n",
    "    .add_yaxis(series_name ='已离职',y_axis=list_left, yaxis_index=0, stack='stack1', z=0)\n",
    "    .extend_axis(\n",
    "        yaxis=opts.AxisOpts(\n",
    "            # 设置y轴属性\n",
    "            type_=\"value\",  \n",
    "            # 给y轴设置名称\n",
    "            name=\"离职率(%)\",  \n",
    "            # 轴名称位于中间\n",
    "            name_location=\"center\",  \n",
    "            # 轴名称与轴线距离30px\n",
    "            name_gap=30,  \n",
    "            )\n",
    "    )\n",
    "    .set_global_opts(\n",
    "        yaxis_opts=opts.AxisOpts(\n",
    "            name='人数',\n",
    "            name_location=\"center\",  # 设置名称位置\n",
    "            name_gap=60,  # 设置轴名称与轴线之间的距离\n",
    "        ),\n",
    "        title_opts=opts.TitleOpts(title=\"5年内升职与是否离职的关系\"),\n",
    "        # 图例设置\n",
    "        legend_opts=opts.LegendOpts(pos_left='40%', pos_bottom='89%'),\n",
    "        # 设置提示框和指示器\n",
    "        tooltip_opts=opts.TooltipOpts(trigger=\"axis\", axis_pointer_type=\"cross\")\n",
    "    )\n",
    ")\n",
    "\n",
    "leave_rate = promotion_data['已离职']/(promotion_data['已离职'] + promotion_data['未离职'])\n",
    "leave_rate = round(leave_rate, 2)\n",
    "# 提取项目数和离职率\n",
    "leave_rate = leave_rate.tolist()\n",
    "# 创建折线图\n",
    "line = (\n",
    "    Line()\n",
    "    .add_xaxis(list(range(0, len(leave_rate), 1)))\n",
    "    .add_yaxis(series_name=\"离职率(%)\", \n",
    "               y_axis=leave_rate, \n",
    "               yaxis_index=1,         \n",
    "               label_opts=opts.LabelOpts(is_show=False, font_size=10, font_weight='bold')\n",
    "               )\n",
    ")\n",
    "bar.overlap(line)\n",
    "bar.render('5年内升职与是否离职的关系组合图.html')"
   ],
   "id": "5865fbe54d7e3cd2",
   "outputs": [
    {
     "data": {
      "text/plain": [
       "'D:\\\\python\\\\school\\\\2_刘自闲_员工离职数据集\\\\5年内升职与是否离职的关系组合图.html'"
      ]
     },
     "execution_count": 289,
     "metadata": {},
     "output_type": "execute_result"
    }
   ],
   "execution_count": 289
  },
  {
   "metadata": {},
   "cell_type": "markdown",
   "source": [
    "依据百分比折线图可得，5年有升职的离职率为4%,5年内未升职的离职率为17%\n",
    "- 5年有升职的离职率比5年内为升职的离职率较低一点，差别较小\n",
    "- 认为5年内是否有升职对离职率的影响较小"
   ],
   "id": "2bb352c04ff8d3fd"
  },
  {
   "metadata": {},
   "cell_type": "markdown",
   "source": "### 2.8 所属部门与是否离职的关系",
   "id": "a57dcb64b42ec52d"
  },
  {
   "metadata": {
    "ExecuteTime": {
     "end_time": "2024-06-23T10:05:14.775983Z",
     "start_time": "2024-06-23T10:05:14.744732Z"
    }
   },
   "cell_type": "code",
   "source": [
    "# 创建交叉表\n",
    "sale_data = pd.crosstab(data_change['sale'], data_change['left'])\n",
    "sale_data.columns = ['未离职', '已离职']\n",
    "sale_data.reset_index(inplace=True)\n",
    "\n",
    "# 构建数据\n",
    "list_sale = sale_data['sale'].tolist()\n",
    "list_not_left = sale_data['未离职'].tolist()\n",
    "list_left = sale_data['已离职'].tolist()\n",
    "\n",
    "bar = (\n",
    "    Bar()\n",
    "    .add_xaxis(list_sale)\n",
    "    .add_yaxis(series_name='未离职', y_axis=list_not_left,yaxis_index=0, stack='stack1', z=0)\n",
    "    .add_yaxis(series_name ='已离职',y_axis=list_left, yaxis_index=0, stack='stack1', z=0)\n",
    "    .extend_axis(\n",
    "        yaxis=opts.AxisOpts(\n",
    "            # 设置y轴属性\n",
    "            type_=\"value\",  \n",
    "            # 给y轴设置名称\n",
    "            name=\"离职率(%)\",  \n",
    "            # 轴名称位于中间\n",
    "            name_location=\"center\",  \n",
    "            # 轴名称与轴线距离30px\n",
    "            name_gap=30,  \n",
    "            )\n",
    "    )\n",
    "    .set_global_opts(\n",
    "        yaxis_opts=opts.AxisOpts(\n",
    "            name='人数',\n",
    "            name_location=\"center\",  # 设置名称位置\n",
    "            name_gap=60,  # 设置轴名称与轴线之间的距离\n",
    "        ),\n",
    "        title_opts=opts.TitleOpts(title=\"所属部门与是否离职的关系\"),\n",
    "        # 图例设置\n",
    "        legend_opts=opts.LegendOpts(pos_left='40%', pos_bottom='89%'),\n",
    "        # 设置提示框和指示器\n",
    "        tooltip_opts=opts.TooltipOpts(trigger=\"axis\", axis_pointer_type=\"cross\")\n",
    "    )\n",
    ")\n",
    "\n",
    "leave_rate = sale_data['已离职']/(sale_data['已离职'] + sale_data['未离职'])\n",
    "leave_rate = round(leave_rate, 2)\n",
    "# 提取项目数和离职率\n",
    "leave_rate = leave_rate.tolist()\n",
    "# 创建折线图\n",
    "line = (\n",
    "    Line()\n",
    "    .add_xaxis(list(range(0, len(leave_rate), 1)))\n",
    "    .add_yaxis(series_name=\"离职率(%)\", \n",
    "               y_axis=leave_rate, \n",
    "               yaxis_index=1,         \n",
    "               label_opts=opts.LabelOpts(is_show=False, font_size=10, font_weight='bold')\n",
    "               )\n",
    ")\n",
    "bar.overlap(line)\n",
    "bar.render('所属部门与是否离职的关系组合图.html')"
   ],
   "id": "d8faea199b0bb276",
   "outputs": [
    {
     "data": {
      "text/plain": [
       "'D:\\\\python\\\\school\\\\2_刘自闲_员工离职数据集\\\\所属部门与是否离职的关系组合图.html'"
      ]
     },
     "execution_count": 290,
     "metadata": {},
     "output_type": "execute_result"
    }
   ],
   "execution_count": 290
  },
  {
   "metadata": {},
   "cell_type": "markdown",
   "source": [
    "观察离职率折线图可得，不同所属部门的离职率有较小波动，波动范围在12%-19%之间\n",
    "- 认为不同所属部门与离职率无较大关系"
   ],
   "id": "8d7776f99857dd26"
  },
  {
   "metadata": {},
   "cell_type": "markdown",
   "source": "### 2.9 薪资水平与是否离职的关系",
   "id": "4b38e01fce2fc333"
  },
  {
   "metadata": {
    "ExecuteTime": {
     "end_time": "2024-06-23T10:12:08.504849Z",
     "start_time": "2024-06-23T10:12:08.489113Z"
    }
   },
   "cell_type": "code",
   "source": [
    "for i, class_label in enumerate(label_encoder.classes_):\n",
    "    print(f\"Class {i}: {class_label}\")"
   ],
   "id": "c3fe9269d118aa6c",
   "outputs": [
    {
     "name": "stdout",
     "output_type": "stream",
     "text": [
      "Class 0: high\n",
      "Class 1: low\n",
      "Class 2: medium\n"
     ]
    }
   ],
   "execution_count": 295
  },
  {
   "metadata": {
    "ExecuteTime": {
     "end_time": "2024-06-23T10:16:03.562175Z",
     "start_time": "2024-06-23T10:16:03.530913Z"
    }
   },
   "cell_type": "code",
   "source": [
    "# 创建交叉表\n",
    "salary_data = pd.crosstab(data_change['salary'], data_change['left'])\n",
    "salary_data.columns = ['未离职', '已离职']\n",
    "salary_data.reset_index(inplace=True)\n",
    "\n",
    "# 构建数据\n",
    "list_salary = salary_data['salary'].tolist()\n",
    "# 提高数据可读性\n",
    "tmp = []\n",
    "for i in list_salary:\n",
    "    if i == 0:\n",
    "        tmp.append('high')\n",
    "    elif i == 1:\n",
    "        tmp.append('low')\n",
    "    elif i == 2:\n",
    "        tmp.append('medium')\n",
    "list_salary = tmp\n",
    "list_not_left = salary_data['未离职'].tolist()\n",
    "list_left = salary_data['已离职'].tolist()\n",
    "\n",
    "bar = (\n",
    "    Bar()\n",
    "    .add_xaxis(list_salary)\n",
    "    .add_yaxis(series_name='未离职', y_axis=list_not_left,yaxis_index=0, stack='stack1', z=0)\n",
    "    .add_yaxis(series_name ='已离职',y_axis=list_left, yaxis_index=0, stack='stack1', z=0)\n",
    "    .extend_axis(\n",
    "        yaxis=opts.AxisOpts(\n",
    "            # 设置y轴属性\n",
    "            type_=\"value\",  \n",
    "            # 给y轴设置名称\n",
    "            name=\"离职率(%)\",  \n",
    "            # 轴名称位于中间\n",
    "            name_location=\"center\",  \n",
    "            # 轴名称与轴线距离30px\n",
    "            name_gap=30,  \n",
    "            )\n",
    "    )\n",
    "    .set_global_opts(\n",
    "        yaxis_opts=opts.AxisOpts(\n",
    "            name='人数',\n",
    "            name_location=\"center\",  # 设置名称位置\n",
    "            name_gap=60,  # 设置轴名称与轴线之间的距离\n",
    "        ),\n",
    "        title_opts=opts.TitleOpts(title=\"薪资水平与是否离职的关系\"),\n",
    "        # 图例设置\n",
    "        legend_opts=opts.LegendOpts(pos_left='40%', pos_bottom='89%'),\n",
    "        # 设置提示框和指示器\n",
    "        tooltip_opts=opts.TooltipOpts(trigger=\"axis\", axis_pointer_type=\"cross\")\n",
    "    )\n",
    ")\n",
    "\n",
    "leave_rate = salary_data['已离职']/(salary_data['已离职'] + salary_data['未离职'])\n",
    "leave_rate = round(leave_rate, 2)\n",
    "# 提取项目数和离职率\n",
    "leave_rate = leave_rate.tolist()\n",
    "# 创建折线图\n",
    "line = (\n",
    "    Line()\n",
    "    .add_xaxis(list(range(0, len(leave_rate), 1)))\n",
    "    .add_yaxis(series_name=\"离职率(%)\", \n",
    "               y_axis=leave_rate, \n",
    "               yaxis_index=1,         \n",
    "               label_opts=opts.LabelOpts(is_show=False, font_size=10, font_weight='bold')\n",
    "               )\n",
    ")\n",
    "bar.overlap(line)\n",
    "bar.render('薪资水平与是否离职的关系组合图.html')"
   ],
   "id": "f073f95fa808c49d",
   "outputs": [
    {
     "data": {
      "text/plain": [
       "'D:\\\\python\\\\school\\\\2_刘自闲_员工离职数据集\\\\薪资水平与是否离职的关系组合图.html'"
      ]
     },
     "execution_count": 297,
     "metadata": {},
     "output_type": "execute_result"
    }
   ],
   "execution_count": 297
  },
  {
   "metadata": {},
   "cell_type": "markdown",
   "source": [
    "根据图表可得，离职率随薪资水平的升高而降低\n",
    "- 薪资水平低时，离职率为20%\n",
    "- 薪资水平高时，离职率为5%\n",
    "- 离职率浮动较小，认为薪资水平对离职率影响较小"
   ],
   "id": "4d976765ef2d5f9a"
  },
  {
   "metadata": {},
   "cell_type": "markdown",
   "source": "### 2.10 各特征与离职的相关性",
   "id": "e4e8e983a5726757"
  },
  {
   "metadata": {
    "ExecuteTime": {
     "end_time": "2024-06-24T04:38:40.856638Z",
     "start_time": "2024-06-24T04:38:40.840626Z"
    }
   },
   "cell_type": "code",
   "source": [
    "plt.rcParams['font.sans-serif'] = ['SimHei']   #显示中文\n",
    "plt.rcParams['axes.unicode_minus']=False       #正常显示负号"
   ],
   "id": "9ab433335f30440f",
   "outputs": [],
   "execution_count": 88
  },
  {
   "metadata": {
    "ExecuteTime": {
     "end_time": "2024-06-24T04:38:41.203293Z",
     "start_time": "2024-06-24T04:38:41.172008Z"
    }
   },
   "cell_type": "code",
   "source": "data_change",
   "id": "260e858afde75960",
   "outputs": [
    {
     "data": {
      "text/plain": [
       "       satisfaction_level  last_evaluation  number_project  \\\n",
       "0                    0.38             0.53               2   \n",
       "1                    0.80             0.86               5   \n",
       "2                    0.11             0.88               7   \n",
       "3                    0.72             0.87               5   \n",
       "4                    0.37             0.52               2   \n",
       "...                   ...              ...             ...   \n",
       "11995                0.90             0.55               3   \n",
       "11996                0.74             0.95               5   \n",
       "11997                0.85             0.54               3   \n",
       "11998                0.33             0.65               3   \n",
       "11999                0.50             0.73               4   \n",
       "\n",
       "       average_montly_hours  time_spend_company  Work_accident  left  \\\n",
       "0                       157                   3              0     1   \n",
       "1                       262                   6              0     1   \n",
       "2                       272                   4              0     1   \n",
       "3                       223                   5              0     1   \n",
       "4                       159                   3              0     1   \n",
       "...                     ...                 ...            ...   ...   \n",
       "11995                   259                  10              1     0   \n",
       "11996                   266                  10              0     0   \n",
       "11997                   185                  10              0     0   \n",
       "11998                   172                  10              0     0   \n",
       "11999                   180                   3              0     0   \n",
       "\n",
       "       promotion_last_5years  sale  salary  \n",
       "0                          0     7       1  \n",
       "1                          0     7       2  \n",
       "2                          0     7       2  \n",
       "3                          0     7       1  \n",
       "4                          0     7       1  \n",
       "...                      ...   ...     ...  \n",
       "11995                      1     4       0  \n",
       "11996                      1     4       0  \n",
       "11997                      1     4       0  \n",
       "11998                      1     5       0  \n",
       "11999                      0     0       1  \n",
       "\n",
       "[11991 rows x 10 columns]"
      ],
      "text/html": [
       "<div>\n",
       "<style scoped>\n",
       "    .dataframe tbody tr th:only-of-type {\n",
       "        vertical-align: middle;\n",
       "    }\n",
       "\n",
       "    .dataframe tbody tr th {\n",
       "        vertical-align: top;\n",
       "    }\n",
       "\n",
       "    .dataframe thead th {\n",
       "        text-align: right;\n",
       "    }\n",
       "</style>\n",
       "<table border=\"1\" class=\"dataframe\">\n",
       "  <thead>\n",
       "    <tr style=\"text-align: right;\">\n",
       "      <th></th>\n",
       "      <th>satisfaction_level</th>\n",
       "      <th>last_evaluation</th>\n",
       "      <th>number_project</th>\n",
       "      <th>average_montly_hours</th>\n",
       "      <th>time_spend_company</th>\n",
       "      <th>Work_accident</th>\n",
       "      <th>left</th>\n",
       "      <th>promotion_last_5years</th>\n",
       "      <th>sale</th>\n",
       "      <th>salary</th>\n",
       "    </tr>\n",
       "  </thead>\n",
       "  <tbody>\n",
       "    <tr>\n",
       "      <th>0</th>\n",
       "      <td>0.38</td>\n",
       "      <td>0.53</td>\n",
       "      <td>2</td>\n",
       "      <td>157</td>\n",
       "      <td>3</td>\n",
       "      <td>0</td>\n",
       "      <td>1</td>\n",
       "      <td>0</td>\n",
       "      <td>7</td>\n",
       "      <td>1</td>\n",
       "    </tr>\n",
       "    <tr>\n",
       "      <th>1</th>\n",
       "      <td>0.80</td>\n",
       "      <td>0.86</td>\n",
       "      <td>5</td>\n",
       "      <td>262</td>\n",
       "      <td>6</td>\n",
       "      <td>0</td>\n",
       "      <td>1</td>\n",
       "      <td>0</td>\n",
       "      <td>7</td>\n",
       "      <td>2</td>\n",
       "    </tr>\n",
       "    <tr>\n",
       "      <th>2</th>\n",
       "      <td>0.11</td>\n",
       "      <td>0.88</td>\n",
       "      <td>7</td>\n",
       "      <td>272</td>\n",
       "      <td>4</td>\n",
       "      <td>0</td>\n",
       "      <td>1</td>\n",
       "      <td>0</td>\n",
       "      <td>7</td>\n",
       "      <td>2</td>\n",
       "    </tr>\n",
       "    <tr>\n",
       "      <th>3</th>\n",
       "      <td>0.72</td>\n",
       "      <td>0.87</td>\n",
       "      <td>5</td>\n",
       "      <td>223</td>\n",
       "      <td>5</td>\n",
       "      <td>0</td>\n",
       "      <td>1</td>\n",
       "      <td>0</td>\n",
       "      <td>7</td>\n",
       "      <td>1</td>\n",
       "    </tr>\n",
       "    <tr>\n",
       "      <th>4</th>\n",
       "      <td>0.37</td>\n",
       "      <td>0.52</td>\n",
       "      <td>2</td>\n",
       "      <td>159</td>\n",
       "      <td>3</td>\n",
       "      <td>0</td>\n",
       "      <td>1</td>\n",
       "      <td>0</td>\n",
       "      <td>7</td>\n",
       "      <td>1</td>\n",
       "    </tr>\n",
       "    <tr>\n",
       "      <th>...</th>\n",
       "      <td>...</td>\n",
       "      <td>...</td>\n",
       "      <td>...</td>\n",
       "      <td>...</td>\n",
       "      <td>...</td>\n",
       "      <td>...</td>\n",
       "      <td>...</td>\n",
       "      <td>...</td>\n",
       "      <td>...</td>\n",
       "      <td>...</td>\n",
       "    </tr>\n",
       "    <tr>\n",
       "      <th>11995</th>\n",
       "      <td>0.90</td>\n",
       "      <td>0.55</td>\n",
       "      <td>3</td>\n",
       "      <td>259</td>\n",
       "      <td>10</td>\n",
       "      <td>1</td>\n",
       "      <td>0</td>\n",
       "      <td>1</td>\n",
       "      <td>4</td>\n",
       "      <td>0</td>\n",
       "    </tr>\n",
       "    <tr>\n",
       "      <th>11996</th>\n",
       "      <td>0.74</td>\n",
       "      <td>0.95</td>\n",
       "      <td>5</td>\n",
       "      <td>266</td>\n",
       "      <td>10</td>\n",
       "      <td>0</td>\n",
       "      <td>0</td>\n",
       "      <td>1</td>\n",
       "      <td>4</td>\n",
       "      <td>0</td>\n",
       "    </tr>\n",
       "    <tr>\n",
       "      <th>11997</th>\n",
       "      <td>0.85</td>\n",
       "      <td>0.54</td>\n",
       "      <td>3</td>\n",
       "      <td>185</td>\n",
       "      <td>10</td>\n",
       "      <td>0</td>\n",
       "      <td>0</td>\n",
       "      <td>1</td>\n",
       "      <td>4</td>\n",
       "      <td>0</td>\n",
       "    </tr>\n",
       "    <tr>\n",
       "      <th>11998</th>\n",
       "      <td>0.33</td>\n",
       "      <td>0.65</td>\n",
       "      <td>3</td>\n",
       "      <td>172</td>\n",
       "      <td>10</td>\n",
       "      <td>0</td>\n",
       "      <td>0</td>\n",
       "      <td>1</td>\n",
       "      <td>5</td>\n",
       "      <td>0</td>\n",
       "    </tr>\n",
       "    <tr>\n",
       "      <th>11999</th>\n",
       "      <td>0.50</td>\n",
       "      <td>0.73</td>\n",
       "      <td>4</td>\n",
       "      <td>180</td>\n",
       "      <td>3</td>\n",
       "      <td>0</td>\n",
       "      <td>0</td>\n",
       "      <td>0</td>\n",
       "      <td>0</td>\n",
       "      <td>1</td>\n",
       "    </tr>\n",
       "  </tbody>\n",
       "</table>\n",
       "<p>11991 rows × 10 columns</p>\n",
       "</div>"
      ]
     },
     "execution_count": 89,
     "metadata": {},
     "output_type": "execute_result"
    }
   ],
   "execution_count": 89
  },
  {
   "metadata": {},
   "cell_type": "markdown",
   "source": "进行归一化",
   "id": "7fcc94e1fcad3988"
  },
  {
   "metadata": {
    "ExecuteTime": {
     "end_time": "2024-06-24T04:38:42.045822Z",
     "start_time": "2024-06-24T04:38:42.014583Z"
    }
   },
   "cell_type": "code",
   "source": [
    "scaler = StandardScaler()\n",
    "# 选择数值类型进行归一化\n",
    "columns_to_scale = ['satisfaction_level', 'last_evaluation', 'number_project', 'average_montly_hours',\n",
    "                    'time_spend_company']\n",
    "all_data = data_change.copy()\n",
    "\n",
    "scaler_data = scaler.fit_transform(data_change[columns_to_scale])\n",
    "scaled_df = pd.DataFrame(scaler_data, columns=columns_to_scale)\n",
    "# 还原数据\n",
    "all_data[columns_to_scale] = scaled_df\n",
    "all_data.isna().sum()\n"
   ],
   "id": "2150976b0c6410be",
   "outputs": [
    {
     "data": {
      "text/plain": [
       "satisfaction_level       9\n",
       "last_evaluation          9\n",
       "number_project           9\n",
       "average_montly_hours     9\n",
       "time_spend_company       9\n",
       "Work_accident            0\n",
       "left                     0\n",
       "promotion_last_5years    0\n",
       "sale                     0\n",
       "salary                   0\n",
       "dtype: int64"
      ]
     },
     "execution_count": 90,
     "metadata": {},
     "output_type": "execute_result"
    }
   ],
   "execution_count": 90
  },
  {
   "metadata": {},
   "cell_type": "markdown",
   "source": "查看缺失值发现出现缺失值，可能是数据在进行归一化时出现极端值导致归一化引发了数据的问题，对缺失数据进行均值填充处理",
   "id": "705e7516e82ff4da"
  },
  {
   "metadata": {
    "ExecuteTime": {
     "end_time": "2024-06-24T04:38:42.768290Z",
     "start_time": "2024-06-24T04:38:42.747908Z"
    }
   },
   "cell_type": "code",
   "source": [
    "all_data = all_data.fillna(all_data.mean())\n",
    "all_data.isna().sum()"
   ],
   "id": "e2b745649d981771",
   "outputs": [
    {
     "data": {
      "text/plain": [
       "satisfaction_level       0\n",
       "last_evaluation          0\n",
       "number_project           0\n",
       "average_montly_hours     0\n",
       "time_spend_company       0\n",
       "Work_accident            0\n",
       "left                     0\n",
       "promotion_last_5years    0\n",
       "sale                     0\n",
       "salary                   0\n",
       "dtype: int64"
      ]
     },
     "execution_count": 91,
     "metadata": {},
     "output_type": "execute_result"
    }
   ],
   "execution_count": 91
  },
  {
   "metadata": {},
   "cell_type": "markdown",
   "source": "绘制相关系数热力图",
   "id": "c0845c21e78ebe9e"
  },
  {
   "metadata": {
    "ExecuteTime": {
     "end_time": "2024-06-24T04:38:43.797803Z",
     "start_time": "2024-06-24T04:38:43.540331Z"
    }
   },
   "cell_type": "code",
   "source": [
    "corr = all_data.corr()\n",
    "plt.figure(figsize=(15, 10))  \n",
    "sns.heatmap(corr, linewidths=0.1, cmap='tab20c_r', annot=True)\n",
    "plt.title('特征与left的相关性', fontdict={'fontsize': 'xx-large', 'fontweight':'heavy'}) \n",
    "plt.xticks(fontsize=12)\n",
    "plt.yticks(fontsize=12)\n",
    "plt.show() "
   ],
   "id": "bee625822e29d931",
   "outputs": [
    {
     "data": {
      "text/plain": [
       "<Figure size 1500x1000 with 2 Axes>"
      ],
      "image/png": "[encoded data removed]"
     },
     "metadata": {},
     "output_type": "display_data"
    }
   ],
   "execution_count": 92
  },
  {
   "metadata": {},
   "cell_type": "markdown",
   "source": "绘制相关系数柱状图",
   "id": "bacbf628671f54b7"
  },
  {
   "metadata": {
    "ExecuteTime": {
     "end_time": "2024-06-24T04:38:44.502142Z",
     "start_time": "2024-06-24T04:38:44.360839Z"
    }
   },
   "cell_type": "code",
   "source": [
    "plt.figure(figsize=(15,10))\n",
    "corr_bar_data = corr['left'].copy()\n",
    "corr_bar_data = corr_bar_data.drop('left')\n",
    "corr_bar_data.plot.bar()"
   ],
   "id": "23490add8076e9dd",
   "outputs": [
    {
     "data": {
      "text/plain": [
       "<Axes: >"
      ]
     },
     "execution_count": 93,
     "metadata": {},
     "output_type": "execute_result"
    },
    {
     "data": {
      "text/plain": [
       "<Figure size 1500x1000 with 1 Axes>"
      ],
      "image/png": "[encoded data removed]"
     },
     "metadata": {},
     "output_type": "display_data"
    }
   ],
   "execution_count": 93
  },
  {
   "metadata": {
    "ExecuteTime": {
     "end_time": "2024-06-24T04:38:44.751673Z",
     "start_time": "2024-06-24T04:38:44.736156Z"
    }
   },
   "cell_type": "code",
   "source": "corr_bar_data.apply(lambda x: np.abs(x)).sort_values()",
   "id": "6b68c5e78d177bff",
   "outputs": [
    {
     "data": {
      "text/plain": [
       "salary                   0.004224\n",
       "last_evaluation          0.013436\n",
       "sale                     0.018286\n",
       "number_project           0.030342\n",
       "promotion_last_5years    0.044657\n",
       "average_montly_hours     0.068947\n",
       "Work_accident            0.125436\n",
       "time_spend_company       0.171855\n",
       "satisfaction_level       0.349109\n",
       "Name: left, dtype: float64"
      ]
     },
     "execution_count": 94,
     "metadata": {},
     "output_type": "execute_result"
    }
   ],
   "execution_count": 94
  },
  {
   "metadata": {},
   "cell_type": "markdown",
   "source": [
    "通过上述图片展示与数据可得\n",
    "- 薪资水平（salary）对是否离职（left）的影响较小，相关系数最低为0.004224\n",
    "- 满意度（satisfaction_level）对是否离职（left）的影响最大，相关系数最高为0.35\n",
    "- 根据相关系数，去除对是否离职（left）影响较小的特征，即salary"
   ],
   "id": "aeba420a487881ed"
  },
  {
   "metadata": {
    "ExecuteTime": {
     "end_time": "2024-06-24T04:38:45.583497Z",
     "start_time": "2024-06-24T04:38:45.567874Z"
    }
   },
   "cell_type": "code",
   "source": [
    "all_data = all_data.drop('salary', axis=1)\n",
    "all_data"
   ],
   "id": "ddf32d09368203a",
   "outputs": [
    {
     "data": {
      "text/plain": [
       "       satisfaction_level  last_evaluation  number_project  \\\n",
       "0               -1.035668        -1.108990       -1.549921   \n",
       "1                0.706637         0.851380        1.029194   \n",
       "2               -2.155721         0.970190        2.748604   \n",
       "3                0.374770         0.910785        1.029194   \n",
       "4               -1.077151        -1.168396       -1.549921   \n",
       "...                   ...              ...             ...   \n",
       "11995            0.000868        -0.000069       -0.000343   \n",
       "11996            0.000868        -0.000069       -0.000343   \n",
       "11997            0.000868        -0.000069       -0.000343   \n",
       "11998            0.000868        -0.000069       -0.000343   \n",
       "11999            0.000868        -0.000069       -0.000343   \n",
       "\n",
       "       average_montly_hours  time_spend_company  Work_accident  left  \\\n",
       "0                 -0.892208           -0.274291              0     1   \n",
       "1                  1.262709            1.981036              0     1   \n",
       "2                  1.467939            0.477485              0     1   \n",
       "3                  0.462311            1.229261              0     1   \n",
       "4                 -0.851162           -0.274291              0     1   \n",
       "...                     ...                 ...            ...   ...   \n",
       "11995             -0.000495           -0.000421              1     0   \n",
       "11996             -0.000495           -0.000421              0     0   \n",
       "11997             -0.000495           -0.000421              0     0   \n",
       "11998             -0.000495           -0.000421              0     0   \n",
       "11999             -0.000495           -0.000421              0     0   \n",
       "\n",
       "       promotion_last_5years  sale  \n",
       "0                          0     7  \n",
       "1                          0     7  \n",
       "2                          0     7  \n",
       "3                          0     7  \n",
       "4                          0     7  \n",
       "...                      ...   ...  \n",
       "11995                      1     4  \n",
       "11996                      1     4  \n",
       "11997                      1     4  \n",
       "11998                      1     5  \n",
       "11999                      0     0  \n",
       "\n",
       "[11991 rows x 9 columns]"
      ],
      "text/html": [
       "<div>\n",
       "<style scoped>\n",
       "    .dataframe tbody tr th:only-of-type {\n",
       "        vertical-align: middle;\n",
       "    }\n",
       "\n",
       "    .dataframe tbody tr th {\n",
       "        vertical-align: top;\n",
       "    }\n",
       "\n",
       "    .dataframe thead th {\n",
       "        text-align: right;\n",
       "    }\n",
       "</style>\n",
       "<table border=\"1\" class=\"dataframe\">\n",
       "  <thead>\n",
       "    <tr style=\"text-align: right;\">\n",
       "      <th></th>\n",
       "      <th>satisfaction_level</th>\n",
       "      <th>last_evaluation</th>\n",
       "      <th>number_project</th>\n",
       "      <th>average_montly_hours</th>\n",
       "      <th>time_spend_company</th>\n",
       "      <th>Work_accident</th>\n",
       "      <th>left</th>\n",
       "      <th>promotion_last_5years</th>\n",
       "      <th>sale</th>\n",
       "    </tr>\n",
       "  </thead>\n",
       "  <tbody>\n",
       "    <tr>\n",
       "      <th>0</th>\n",
       "      <td>-1.035668</td>\n",
       "      <td>-1.108990</td>\n",
       "      <td>-1.549921</td>\n",
       "      <td>-0.892208</td>\n",
       "      <td>-0.274291</td>\n",
       "      <td>0</td>\n",
       "      <td>1</td>\n",
       "      <td>0</td>\n",
       "      <td>7</td>\n",
       "    </tr>\n",
       "    <tr>\n",
       "      <th>1</th>\n",
       "      <td>0.706637</td>\n",
       "      <td>0.851380</td>\n",
       "      <td>1.029194</td>\n",
       "      <td>1.262709</td>\n",
       "      <td>1.981036</td>\n",
       "      <td>0</td>\n",
       "      <td>1</td>\n",
       "      <td>0</td>\n",
       "      <td>7</td>\n",
       "    </tr>\n",
       "    <tr>\n",
       "      <th>2</th>\n",
       "      <td>-2.155721</td>\n",
       "      <td>0.970190</td>\n",
       "      <td>2.748604</td>\n",
       "      <td>1.467939</td>\n",
       "      <td>0.477485</td>\n",
       "      <td>0</td>\n",
       "      <td>1</td>\n",
       "      <td>0</td>\n",
       "      <td>7</td>\n",
       "    </tr>\n",
       "    <tr>\n",
       "      <th>3</th>\n",
       "      <td>0.374770</td>\n",
       "      <td>0.910785</td>\n",
       "      <td>1.029194</td>\n",
       "      <td>0.462311</td>\n",
       "      <td>1.229261</td>\n",
       "      <td>0</td>\n",
       "      <td>1</td>\n",
       "      <td>0</td>\n",
       "      <td>7</td>\n",
       "    </tr>\n",
       "    <tr>\n",
       "      <th>4</th>\n",
       "      <td>-1.077151</td>\n",
       "      <td>-1.168396</td>\n",
       "      <td>-1.549921</td>\n",
       "      <td>-0.851162</td>\n",
       "      <td>-0.274291</td>\n",
       "      <td>0</td>\n",
       "      <td>1</td>\n",
       "      <td>0</td>\n",
       "      <td>7</td>\n",
       "    </tr>\n",
       "    <tr>\n",
       "      <th>...</th>\n",
       "      <td>...</td>\n",
       "      <td>...</td>\n",
       "      <td>...</td>\n",
       "      <td>...</td>\n",
       "      <td>...</td>\n",
       "      <td>...</td>\n",
       "      <td>...</td>\n",
       "      <td>...</td>\n",
       "      <td>...</td>\n",
       "    </tr>\n",
       "    <tr>\n",
       "      <th>11995</th>\n",
       "      <td>0.000868</td>\n",
       "      <td>-0.000069</td>\n",
       "      <td>-0.000343</td>\n",
       "      <td>-0.000495</td>\n",
       "      <td>-0.000421</td>\n",
       "      <td>1</td>\n",
       "      <td>0</td>\n",
       "      <td>1</td>\n",
       "      <td>4</td>\n",
       "    </tr>\n",
       "    <tr>\n",
       "      <th>11996</th>\n",
       "      <td>0.000868</td>\n",
       "      <td>-0.000069</td>\n",
       "      <td>-0.000343</td>\n",
       "      <td>-0.000495</td>\n",
       "      <td>-0.000421</td>\n",
       "      <td>0</td>\n",
       "      <td>0</td>\n",
       "      <td>1</td>\n",
       "      <td>4</td>\n",
       "    </tr>\n",
       "    <tr>\n",
       "      <th>11997</th>\n",
       "      <td>0.000868</td>\n",
       "      <td>-0.000069</td>\n",
       "      <td>-0.000343</td>\n",
       "      <td>-0.000495</td>\n",
       "      <td>-0.000421</td>\n",
       "      <td>0</td>\n",
       "      <td>0</td>\n",
       "      <td>1</td>\n",
       "      <td>4</td>\n",
       "    </tr>\n",
       "    <tr>\n",
       "      <th>11998</th>\n",
       "      <td>0.000868</td>\n",
       "      <td>-0.000069</td>\n",
       "      <td>-0.000343</td>\n",
       "      <td>-0.000495</td>\n",
       "      <td>-0.000421</td>\n",
       "      <td>0</td>\n",
       "      <td>0</td>\n",
       "      <td>1</td>\n",
       "      <td>5</td>\n",
       "    </tr>\n",
       "    <tr>\n",
       "      <th>11999</th>\n",
       "      <td>0.000868</td>\n",
       "      <td>-0.000069</td>\n",
       "      <td>-0.000343</td>\n",
       "      <td>-0.000495</td>\n",
       "      <td>-0.000421</td>\n",
       "      <td>0</td>\n",
       "      <td>0</td>\n",
       "      <td>0</td>\n",
       "      <td>0</td>\n",
       "    </tr>\n",
       "  </tbody>\n",
       "</table>\n",
       "<p>11991 rows × 9 columns</p>\n",
       "</div>"
      ]
     },
     "execution_count": 95,
     "metadata": {},
     "output_type": "execute_result"
    }
   ],
   "execution_count": 95
  },
  {
   "metadata": {},
   "cell_type": "markdown",
   "source": "## 建模数据分析",
   "id": "b5c367b51f03ce1b"
  },
  {
   "metadata": {},
   "cell_type": "markdown",
   "source": "### 模型建立和评估",
   "id": "ed223e3eae576e6"
  },
  {
   "metadata": {},
   "cell_type": "markdown",
   "source": "划分数据集、验证集",
   "id": "941132b71d55af3d"
  },
  {
   "metadata": {
    "ExecuteTime": {
     "end_time": "2024-06-24T04:38:48.648605Z",
     "start_time": "2024-06-24T04:38:48.632626Z"
    }
   },
   "cell_type": "code",
   "source": [
    "X = all_data.drop('left', axis=1)\n",
    "y = all_data['left']"
   ],
   "id": "28894d5518f1e033",
   "outputs": [],
   "execution_count": 96
  },
  {
   "metadata": {},
   "cell_type": "markdown",
   "source": "建立一系列基准化模型",
   "id": "6fc457a1ee8e5c1c"
  },
  {
   "metadata": {
    "ExecuteTime": {
     "end_time": "2024-06-24T04:55:44.182077Z",
     "start_time": "2024-06-24T04:55:44.165983Z"
    }
   },
   "cell_type": "code",
   "source": [
    "# 逻辑回归\n",
    "logit = LogisticRegression()\n",
    "# k近邻\n",
    "knn = KNeighborsClassifier()\n",
    "# 支持向量积\n",
    "svc = SVC(kernel='linear', random_state=42)\n",
    "# 随机森林\n",
    "rfc = RandomForestClassifier(n_estimators=100, random_state=42)\n",
    "# 决策树\n",
    "decision_tree = DecisionTreeClassifier(criterion='entropy',max_depth=5, random_state=42)"
   ],
   "id": "7704f9566f994b40",
   "outputs": [],
   "execution_count": 104
  },
  {
   "metadata": {},
   "cell_type": "markdown",
   "source": "使用交叉验证进行模型评价",
   "id": "4d141a50bbe1787e"
  },
  {
   "metadata": {
    "ExecuteTime": {
     "end_time": "2024-06-24T04:55:45.068490Z",
     "start_time": "2024-06-24T04:55:45.052865Z"
    }
   },
   "cell_type": "code",
   "source": [
    "cv = KFold(n_splits=5,shuffle=True,random_state=42)  # 实例化交叉验证模式\n",
    "\n",
    "def eval_model(model, x, y, cv, name):\n",
    "    cross_result = cross_validate(model,\n",
    "                                  x, y,\n",
    "                                  cv=cv,\n",
    "                                  return_train_score=True,\n",
    "                                  verbose=True\n",
    "                                  )\n",
    "    \n",
    "    # 计算均方根误差\n",
    "    trainRMSE = np.sqrt(abs(cross_result['train_score']))\n",
    "    testRMSE = np.sqrt(abs(cross_result['test_score']))\n",
    "    \n",
    "    # 存储数据\n",
    "    df = pd.DataFrame({'Model': name,\n",
    "                       'trainRMSE': trainRMSE,\n",
    "                       'testRMSE': testRMSE\n",
    "    })\n",
    "    return df\n"
   ],
   "id": "3acf7f5ac7cf72ef",
   "outputs": [],
   "execution_count": 105
  },
  {
   "metadata": {
    "ExecuteTime": {
     "end_time": "2024-06-24T04:55:56.145908Z",
     "start_time": "2024-06-24T04:55:45.841739Z"
    }
   },
   "cell_type": "code",
   "source": [
    "logit_result = eval_model(logit, X, y, cv, 'logit' )\n",
    "knn_result = eval_model(knn, X, y, cv, 'knn' )\n",
    "svc_result = eval_model(svc, X, y, cv, 'svc' )\n",
    "rfc_result = eval_model(rfc, X, y, cv, 'rfc' )\n",
    "decision_tree_result = eval_model(decision_tree, X, y, cv, 'decision_tree' )"
   ],
   "id": "48f90234959b287a",
   "outputs": [],
   "execution_count": 106
  },
  {
   "metadata": {
    "ExecuteTime": {
     "end_time": "2024-06-24T04:55:56.287662Z",
     "start_time": "2024-06-24T04:55:56.145908Z"
    }
   },
   "cell_type": "code",
   "source": [
    "# 显示模型结果\n",
    "plt.figure(figsize=(16,9),dpi=80)\n",
    "xaxis = range(1,6)\n",
    "\n",
    "#RMSE\n",
    "plt.plot(xaxis,logit_result['trainRMSE'],color=\"green\",label = \"逻辑回归训练集\")\n",
    "plt.plot(xaxis,logit_result['testRMSE'],color=\"green\",linestyle=\"--\",label = \"逻辑回归测试集\")\n",
    "plt.plot(xaxis,knn_result['trainRMSE'],color=\"blue\",label = \"k近邻训练集\")\n",
    "plt.plot(xaxis,knn_result['testRMSE'],color=\"blue\",linestyle=\"--\",label = \"k近邻测试集\")\n",
    "plt.plot(xaxis,svc_result['trainRMSE'],color=\"red\",label = \"支持向量积训练集\")\n",
    "plt.plot(xaxis,svc_result['testRMSE'],color=\"red\",linestyle=\"--\",label = \"支持向量积测试集\")\n",
    "plt.plot(xaxis,rfc_result['trainRMSE'],color=\"black\",label = \"随机森林训练集\")\n",
    "plt.plot(xaxis,rfc_result['testRMSE'],color=\"black\",linestyle=\"--\",label = \"随机森林测试集\")\n",
    "plt.plot(xaxis,decision_tree_result['trainRMSE'],color=\"green\",label = \"决策树训练集\")\n",
    "plt.plot(xaxis,decision_tree_result['testRMSE'],color=\"green\",linestyle=\"--\",label = \"决策树测试集\")\n",
    "plt.xticks([1,2,3,4,5])\n",
    "plt.xlabel(\"CV\",fontsize=16)\n",
    "plt.ylabel(\"RMSE\",fontsize=16)\n",
    "plt.legend()\n",
    "plt.show()\n"
   ],
   "id": "f9c6266eb09fde2b",
   "outputs": [
    {
     "data": {
      "text/plain": [
       "<Figure size 1280x720 with 1 Axes>"
      ],
      "image/png": "[encoded data removed]"
     },
     "metadata": {},
     "output_type": "display_data"
    }
   ],
   "execution_count": 107
  },
  {
   "metadata": {
    "ExecuteTime": {
     "end_time": "2024-06-24T04:56:05.778082Z",
     "start_time": "2024-06-24T04:56:05.746833Z"
    }
   },
   "cell_type": "code",
   "source": [
    "all_results = pd.concat([logit_result, knn_result, svc_result, rfc_result, decision_tree_result], ignore_index=True)\n",
    "all_results"
   ],
   "id": "4d502802ad4ce210",
   "outputs": [
    {
     "data": {
      "text/plain": [
       "            Model  trainRMSE  testRMSE\n",
       "0           logit   0.912738  0.912605\n",
       "1           logit   0.914117  0.907985\n",
       "2           logit   0.913375  0.910508\n",
       "3           logit   0.912519  0.913480\n",
       "4           logit   0.912861  0.918715\n",
       "5             knn   0.983549  0.986571\n",
       "6             knn   0.985457  0.977435\n",
       "7             knn   0.984451  0.983178\n",
       "8             knn   0.984239  0.981267\n",
       "9             knn   0.984398  0.979779\n",
       "10            svc   0.913366  0.912605\n",
       "11            svc   0.913603  0.911652\n",
       "12            svc   0.913946  0.910279\n",
       "13            svc   0.912347  0.916670\n",
       "14            svc   0.912804  0.914848\n",
       "15            rfc   1.000000  0.993098\n",
       "16            rfc   0.999948  0.988677\n",
       "17            rfc   0.999948  0.992255\n",
       "18            rfc   0.999896  0.991835\n",
       "19            rfc   1.000000  0.992045\n",
       "20  decision_tree   0.988835  0.990577\n",
       "21  decision_tree   0.989731  0.986565\n",
       "22  decision_tree   0.989205  0.987833\n",
       "23  decision_tree   0.989205  0.988677\n",
       "24  decision_tree   0.989521  0.987410"
      ],
      "text/html": [
       "<div>\n",
       "<style scoped>\n",
       "    .dataframe tbody tr th:only-of-type {\n",
       "        vertical-align: middle;\n",
       "    }\n",
       "\n",
       "    .dataframe tbody tr th {\n",
       "        vertical-align: top;\n",
       "    }\n",
       "\n",
       "    .dataframe thead th {\n",
       "        text-align: right;\n",
       "    }\n",
       "</style>\n",
       "<table border=\"1\" class=\"dataframe\">\n",
       "  <thead>\n",
       "    <tr style=\"text-align: right;\">\n",
       "      <th></th>\n",
       "      <th>Model</th>\n",
       "      <th>trainRMSE</th>\n",
       "      <th>testRMSE</th>\n",
       "    </tr>\n",
       "  </thead>\n",
       "  <tbody>\n",
       "    <tr>\n",
       "      <th>0</th>\n",
       "      <td>logit</td>\n",
       "      <td>0.912738</td>\n",
       "      <td>0.912605</td>\n",
       "    </tr>\n",
       "    <tr>\n",
       "      <th>1</th>\n",
       "      <td>logit</td>\n",
       "      <td>0.914117</td>\n",
       "      <td>0.907985</td>\n",
       "    </tr>\n",
       "    <tr>\n",
       "      <th>2</th>\n",
       "      <td>logit</td>\n",
       "      <td>0.913375</td>\n",
       "      <td>0.910508</td>\n",
       "    </tr>\n",
       "    <tr>\n",
       "      <th>3</th>\n",
       "      <td>logit</td>\n",
       "      <td>0.912519</td>\n",
       "      <td>0.913480</td>\n",
       "    </tr>\n",
       "    <tr>\n",
       "      <th>4</th>\n",
       "      <td>logit</td>\n",
       "      <td>0.912861</td>\n",
       "      <td>0.918715</td>\n",
       "    </tr>\n",
       "    <tr>\n",
       "      <th>5</th>\n",
       "      <td>knn</td>\n",
       "      <td>0.983549</td>\n",
       "      <td>0.986571</td>\n",
       "    </tr>\n",
       "    <tr>\n",
       "      <th>6</th>\n",
       "      <td>knn</td>\n",
       "      <td>0.985457</td>\n",
       "      <td>0.977435</td>\n",
       "    </tr>\n",
       "    <tr>\n",
       "      <th>7</th>\n",
       "      <td>knn</td>\n",
       "      <td>0.984451</td>\n",
       "      <td>0.983178</td>\n",
       "    </tr>\n",
       "    <tr>\n",
       "      <th>8</th>\n",
       "      <td>knn</td>\n",
       "      <td>0.984239</td>\n",
       "      <td>0.981267</td>\n",
       "    </tr>\n",
       "    <tr>\n",
       "      <th>9</th>\n",
       "      <td>knn</td>\n",
       "      <td>0.984398</td>\n",
       "      <td>0.979779</td>\n",
       "    </tr>\n",
       "    <tr>\n",
       "      <th>10</th>\n",
       "      <td>svc</td>\n",
       "      <td>0.913366</td>\n",
       "      <td>0.912605</td>\n",
       "    </tr>\n",
       "    <tr>\n",
       "      <th>11</th>\n",
       "      <td>svc</td>\n",
       "      <td>0.913603</td>\n",
       "      <td>0.911652</td>\n",
       "    </tr>\n",
       "    <tr>\n",
       "      <th>12</th>\n",
       "      <td>svc</td>\n",
       "      <td>0.913946</td>\n",
       "      <td>0.910279</td>\n",
       "    </tr>\n",
       "    <tr>\n",
       "      <th>13</th>\n",
       "      <td>svc</td>\n",
       "      <td>0.912347</td>\n",
       "      <td>0.916670</td>\n",
       "    </tr>\n",
       "    <tr>\n",
       "      <th>14</th>\n",
       "      <td>svc</td>\n",
       "      <td>0.912804</td>\n",
       "      <td>0.914848</td>\n",
       "    </tr>\n",
       "    <tr>\n",
       "      <th>15</th>\n",
       "      <td>rfc</td>\n",
       "      <td>1.000000</td>\n",
       "      <td>0.993098</td>\n",
       "    </tr>\n",
       "    <tr>\n",
       "      <th>16</th>\n",
       "      <td>rfc</td>\n",
       "      <td>0.999948</td>\n",
       "      <td>0.988677</td>\n",
       "    </tr>\n",
       "    <tr>\n",
       "      <th>17</th>\n",
       "      <td>rfc</td>\n",
       "      <td>0.999948</td>\n",
       "      <td>0.992255</td>\n",
       "    </tr>\n",
       "    <tr>\n",
       "      <th>18</th>\n",
       "      <td>rfc</td>\n",
       "      <td>0.999896</td>\n",
       "      <td>0.991835</td>\n",
       "    </tr>\n",
       "    <tr>\n",
       "      <th>19</th>\n",
       "      <td>rfc</td>\n",
       "      <td>1.000000</td>\n",
       "      <td>0.992045</td>\n",
       "    </tr>\n",
       "    <tr>\n",
       "      <th>20</th>\n",
       "      <td>decision_tree</td>\n",
       "      <td>0.988835</td>\n",
       "      <td>0.990577</td>\n",
       "    </tr>\n",
       "    <tr>\n",
       "      <th>21</th>\n",
       "      <td>decision_tree</td>\n",
       "      <td>0.989731</td>\n",
       "      <td>0.986565</td>\n",
       "    </tr>\n",
       "    <tr>\n",
       "      <th>22</th>\n",
       "      <td>decision_tree</td>\n",
       "      <td>0.989205</td>\n",
       "      <td>0.987833</td>\n",
       "    </tr>\n",
       "    <tr>\n",
       "      <th>23</th>\n",
       "      <td>decision_tree</td>\n",
       "      <td>0.989205</td>\n",
       "      <td>0.988677</td>\n",
       "    </tr>\n",
       "    <tr>\n",
       "      <th>24</th>\n",
       "      <td>decision_tree</td>\n",
       "      <td>0.989521</td>\n",
       "      <td>0.987410</td>\n",
       "    </tr>\n",
       "  </tbody>\n",
       "</table>\n",
       "</div>"
      ]
     },
     "execution_count": 108,
     "metadata": {},
     "output_type": "execute_result"
    }
   ],
   "execution_count": 108
  },
  {
   "metadata": {},
   "cell_type": "markdown",
   "source": "依据上图可知，数据集使用随机森林进行建模时效果较好，选择使用使用随机森林作为使用模型",
   "id": "6610653068fbcf7a"
  },
  {
   "metadata": {},
   "cell_type": "markdown",
   "source": "### 随机森林参数调优",
   "id": "45e3ad6f1b09cdfe"
  },
  {
   "metadata": {},
   "cell_type": "markdown",
   "source": "在进行基础模型建立时，随机森林的n_estimators为100，且在上述交叉验证时未出现较明显的过拟合现象，现对随机森林的参数进行调优",
   "id": "92b157dd806b9bde"
  },
  {
   "metadata": {},
   "cell_type": "markdown",
   "source": "使用贝叶斯优化",
   "id": "f3a3b7f23cb04efc"
  },
  {
   "metadata": {
    "ExecuteTime": {
     "end_time": "2024-06-24T04:39:40.485272Z",
     "start_time": "2024-06-24T04:39:40.455113Z"
    }
   },
   "cell_type": "code",
   "source": [
    "def hyperopt_objective(params):\n",
    "    \n",
    "    #定义评估器\n",
    "    #需要搜索的参数需要从输入的字典中索引出来\n",
    "    #不需要搜索的参数，可以是设置好的某个值\n",
    "    #在需要整数的参数前调整参数类型\n",
    "    reg = RandomForestClassifier(n_estimators = int(params[\"n_estimators\"])\n",
    "                                  ,max_depth = int(params[\"max_depth\"])\n",
    "                                  ,max_features = int(params[\"max_features\"])\n",
    "                                  ,min_impurity_decrease = params[\"min_impurity_decrease\"]\n",
    "                                  ,random_state=1412\n",
    "                                  ,verbose=False\n",
    "                                  ,n_jobs=-1)\n",
    "    \n",
    "    #交叉验证结果，输出负根均方误差（-RMSE）\n",
    "    cv = KFold(n_splits=5,shuffle=True,random_state=1412)\n",
    "    validation_loss = cross_validate(reg,X,y\n",
    "                                     ,scoring=\"neg_root_mean_squared_error\"\n",
    "                                     ,cv=cv\n",
    "                                     ,verbose=False\n",
    "                                     ,n_jobs=-1\n",
    "                                     ,error_score='raise'\n",
    "                                    )\n",
    "    \n",
    "    #最终输出结果，由于只能取最小值，所以必须对（-RMSE）求绝对值\n",
    "    #以求解最小RMSE所对应的参数组合\n",
    "    return np.mean(abs(validation_loss[\"test_score\"]))\n"
   ],
   "id": "127dd7c3298ca7fb",
   "outputs": [],
   "execution_count": 97
  },
  {
   "metadata": {
    "ExecuteTime": {
     "end_time": "2024-06-24T05:46:18.904360Z",
     "start_time": "2024-06-24T05:46:18.888516Z"
    }
   },
   "cell_type": "code",
   "source": [
    "# 定义参数空间\n",
    "param_grid_simple = {'n_estimators': hp.quniform(\"n_estimators\",80,100,1)\n",
    "                     , 'max_depth': hp.quniform(\"max_depth\",10,25,1)\n",
    "                     , \"max_features\": hp.quniform(\"max_features\",10,20,1)\n",
    "                     , \"min_impurity_decrease\":hp.quniform(\"min_impurity_decrease\",0,5,1)\n",
    "                    }\n"
   ],
   "id": "8c80a416d1931a73",
   "outputs": [],
   "execution_count": 147
  },
  {
   "metadata": {
    "ExecuteTime": {
     "end_time": "2024-06-24T05:46:19.396392Z",
     "start_time": "2024-06-24T05:46:19.380760Z"
    }
   },
   "cell_type": "code",
   "source": [
    "def param_hyperopt(max_evals=100):\n",
    "    \n",
    "    #保存迭代过程\n",
    "    trials = Trials()\n",
    "    \n",
    "    #设置提前停止\n",
    "    early_stop_fn = no_progress_loss(300)\n",
    "    \n",
    "    #定义代理模型\n",
    "    #algo = partial(tpe.suggest, n_startup_jobs=20, n_EI_candidates=50)\n",
    "    params_best = fmin(hyperopt_objective #目标函数\n",
    "                       , space = param_grid_simple #参数空间\n",
    "                       , algo = tpe.suggest \n",
    "                       #, algo = algo\n",
    "                       , max_evals = max_evals #允许的迭代次数\n",
    "                       , verbose=True\n",
    "                       , trials = trials\n",
    "                       , early_stop_fn = early_stop_fn\n",
    "                      )\n",
    "    \n",
    "    #打印最优参数，fmin会自动打印最佳分数\n",
    "    print(\"\\n\",\"\\n\",\"best params: \", params_best,\n",
    "          \"\\n\")\n",
    "    return params_best, trials\n"
   ],
   "id": "fd98c181651dd5d3",
   "outputs": [],
   "execution_count": 148
  },
  {
   "metadata": {
    "ExecuteTime": {
     "end_time": "2024-06-24T05:46:36.780685Z",
     "start_time": "2024-06-24T05:46:19.876250Z"
    }
   },
   "cell_type": "code",
   "source": "params_best, trials = param_hyperopt(50) \n",
   "id": "2f3c48619141e5a2",
   "outputs": [
    {
     "name": "stdout",
     "output_type": "stream",
     "text": [
      "100%|██████████| 50/50 [00:16<00:00,  2.96trial/s, best loss: 0.1308313300761746] \n",
      "\n",
      " \n",
      " best params:  {'max_depth': 24.0, 'max_features': 17.0, 'min_impurity_decrease': 0.0, 'n_estimators': 86.0} \n",
      "\n"
     ]
    }
   ],
   "execution_count": 149
  },
  {
   "metadata": {
    "ExecuteTime": {
     "end_time": "2024-06-24T05:47:12.410082Z",
     "start_time": "2024-06-24T05:46:36.780685Z"
    }
   },
   "cell_type": "code",
   "source": "params_best, trials = param_hyperopt(100) ",
   "id": "bca7bf13fb724447",
   "outputs": [
    {
     "name": "stdout",
     "output_type": "stream",
     "text": [
      "100%|██████████| 100/100 [00:35<00:00,  2.81trial/s, best loss: 0.12891764897526056]\n",
      "\n",
      " \n",
      " best params:  {'max_depth': 10.0, 'max_features': 15.0, 'min_impurity_decrease': 0.0, 'n_estimators': 95.0} \n",
      "\n"
     ]
    }
   ],
   "execution_count": 150
  },
  {
   "metadata": {},
   "cell_type": "markdown",
   "source": "进行调优之前的交叉验证结果",
   "id": "33c65c7d78a80fa9"
  },
  {
   "metadata": {
    "ExecuteTime": {
     "end_time": "2024-06-24T05:47:14.893086Z",
     "start_time": "2024-06-24T05:47:14.861829Z"
    }
   },
   "cell_type": "code",
   "source": "rfc_result",
   "id": "99e05483383fb865",
   "outputs": [
    {
     "data": {
      "text/plain": [
       "  Model  trainRMSE  testRMSE\n",
       "0   rfc   1.000000  0.993098\n",
       "1   rfc   0.999948  0.988677\n",
       "2   rfc   0.999948  0.992255\n",
       "3   rfc   0.999896  0.991835\n",
       "4   rfc   1.000000  0.992045"
      ],
      "text/html": [
       "<div>\n",
       "<style scoped>\n",
       "    .dataframe tbody tr th:only-of-type {\n",
       "        vertical-align: middle;\n",
       "    }\n",
       "\n",
       "    .dataframe tbody tr th {\n",
       "        vertical-align: top;\n",
       "    }\n",
       "\n",
       "    .dataframe thead th {\n",
       "        text-align: right;\n",
       "    }\n",
       "</style>\n",
       "<table border=\"1\" class=\"dataframe\">\n",
       "  <thead>\n",
       "    <tr style=\"text-align: right;\">\n",
       "      <th></th>\n",
       "      <th>Model</th>\n",
       "      <th>trainRMSE</th>\n",
       "      <th>testRMSE</th>\n",
       "    </tr>\n",
       "  </thead>\n",
       "  <tbody>\n",
       "    <tr>\n",
       "      <th>0</th>\n",
       "      <td>rfc</td>\n",
       "      <td>1.000000</td>\n",
       "      <td>0.993098</td>\n",
       "    </tr>\n",
       "    <tr>\n",
       "      <th>1</th>\n",
       "      <td>rfc</td>\n",
       "      <td>0.999948</td>\n",
       "      <td>0.988677</td>\n",
       "    </tr>\n",
       "    <tr>\n",
       "      <th>2</th>\n",
       "      <td>rfc</td>\n",
       "      <td>0.999948</td>\n",
       "      <td>0.992255</td>\n",
       "    </tr>\n",
       "    <tr>\n",
       "      <th>3</th>\n",
       "      <td>rfc</td>\n",
       "      <td>0.999896</td>\n",
       "      <td>0.991835</td>\n",
       "    </tr>\n",
       "    <tr>\n",
       "      <th>4</th>\n",
       "      <td>rfc</td>\n",
       "      <td>1.000000</td>\n",
       "      <td>0.992045</td>\n",
       "    </tr>\n",
       "  </tbody>\n",
       "</table>\n",
       "</div>"
      ]
     },
     "execution_count": 151,
     "metadata": {},
     "output_type": "execute_result"
    }
   ],
   "execution_count": 151
  },
  {
   "metadata": {
    "ExecuteTime": {
     "end_time": "2024-06-24T05:47:26.776440Z",
     "start_time": "2024-06-24T05:47:16.171470Z"
    }
   },
   "cell_type": "code",
   "source": [
    "# 模型调优\n",
    "rfc_turn1 = RandomForestClassifier(n_estimators=80, random_state=42, max_depth=21, max_features=20,min_impurity_decrease=0.0)\n",
    "\n",
    "result1 = eval_model(rfc_turn1, X, y, cv, 'random_forest_turn')\n",
    "\n",
    "\n",
    "rfc_turn2 = RandomForestClassifier(n_estimators=87, random_state=42, max_depth=10, max_features=10,min_impurity_decrease=0.0)\n",
    "result2 = eval_model(rfc_turn2, X, y, cv, 'random_forest_turn')\n"
   ],
   "id": "2cf66672f639e0b5",
   "outputs": [],
   "execution_count": 152
  },
  {
   "metadata": {
    "ExecuteTime": {
     "end_time": "2024-06-24T05:47:33.067788Z",
     "start_time": "2024-06-24T05:47:32.912875Z"
    }
   },
   "cell_type": "code",
   "source": [
    "# 显示模型结果\n",
    "plt.figure(figsize=(16,9),dpi=80)\n",
    "xaxis = range(1,6)\n",
    "\n",
    "#RMSE\n",
    "plt.plot(xaxis,rfc_result['trainRMSE'],color=\"green\",label = \"随机森林调优前训练集\")\n",
    "plt.plot(xaxis,rfc_result['testRMSE'],color=\"green\",linestyle=\"--\",label = \"随机森林调优前测试集\")\n",
    "plt.plot(xaxis,result1['trainRMSE'],color=\"blue\",label = \"随机森林调优1后训练集\")\n",
    "plt.plot(xaxis,result1['testRMSE'],color=\"blue\",linestyle=\"--\",label = \"随机森林调优1后测试集\")\n",
    "plt.plot(xaxis,result2['trainRMSE'],color=\"red\",label = \"随机森林调优2后训练集\")\n",
    "plt.plot(xaxis,result2['testRMSE'],color=\"red\",linestyle=\"--\",label = \"随机森林调优2后测试集\")\n",
    "plt.xticks([1,2,3,4,5])\n",
    "plt.xlabel(\"CV\",fontsize=16)\n",
    "plt.ylabel(\"RMSE\",fontsize=16)\n",
    "plt.legend()\n",
    "plt.show()\n"
   ],
   "id": "a9972ffdd64f417",
   "outputs": [
    {
     "data": {
      "text/plain": [
       "<Figure size 1280x720 with 1 Axes>"
      ],
      "image/png": "[encoded data removed]"
     },
     "metadata": {},
     "output_type": "display_data"
    }
   ],
   "execution_count": 153
  },
  {
   "metadata": {},
   "cell_type": "markdown",
   "source": "根据折线图比较，由于调优1与原随机森林在交叉验证分数上相差不大，由于定义的参数空间的n_estimators右边界为80，max_features左边界为20，而调优1的n_estimators为80，max_features为20，所以进行参数空间的范围更改",
   "id": "56e63fa8c3c9e667"
  },
  {
   "metadata": {
    "ExecuteTime": {
     "end_time": "2024-06-24T05:47:34.813319Z",
     "start_time": "2024-06-24T05:47:34.797355Z"
    }
   },
   "cell_type": "code",
   "source": [
    "# 定义参数空间\n",
    "param_grid_simple_turn = {'n_estimators': hp.quniform(\"n_estimators\",60,90,1)\n",
    "                     , 'max_depth': hp.quniform(\"max_depth\",8,20,1)\n",
    "                     , \"max_features\": hp.quniform(\"max_features\",15,30,1)\n",
    "                     , \"min_impurity_decrease\":hp.quniform(\"min_impurity_decrease\",0,5,1)\n",
    "                    }\n"
   ],
   "id": "b795b11e59bc04cb",
   "outputs": [],
   "execution_count": 154
  },
  {
   "metadata": {
    "ExecuteTime": {
     "end_time": "2024-06-24T05:47:35.454570Z",
     "start_time": "2024-06-24T05:47:35.438891Z"
    }
   },
   "cell_type": "code",
   "source": [
    "def param_hyperopt(max_evals=100):\n",
    "    \n",
    "    #保存迭代过程\n",
    "    trials = Trials()\n",
    "    \n",
    "    #设置提前停止\n",
    "    early_stop_fn = no_progress_loss(300)\n",
    "    \n",
    "    #定义代理模型\n",
    "    #algo = partial(tpe.suggest, n_startup_jobs=20, n_EI_candidates=50)\n",
    "    params_best = fmin(hyperopt_objective #目标函数\n",
    "                       , space = param_grid_simple_turn #参数空间\n",
    "                       , algo = tpe.suggest \n",
    "                       #, algo = algo\n",
    "                       , max_evals = max_evals #允许的迭代次数\n",
    "                       , verbose=True\n",
    "                       , trials = trials\n",
    "                       , early_stop_fn = early_stop_fn\n",
    "                      )\n",
    "    \n",
    "    #打印最优参数，fmin会自动打印最佳分数\n",
    "    print(\"\\n\",\"\\n\",\"best params: \", params_best,\n",
    "          \"\\n\")\n",
    "    return params_best, trials\n"
   ],
   "id": "ffa38bf58d3a1d43",
   "outputs": [],
   "execution_count": 155
  },
  {
   "metadata": {
    "ExecuteTime": {
     "end_time": "2024-06-24T05:48:06.163846Z",
     "start_time": "2024-06-24T05:47:36.179465Z"
    }
   },
   "cell_type": "code",
   "source": "params_best, trials = param_hyperopt(100) \n",
   "id": "5711899c5b49c7fe",
   "outputs": [
    {
     "name": "stdout",
     "output_type": "stream",
     "text": [
      "100%|██████████| 100/100 [00:29<00:00,  3.34trial/s, best loss: 0.12894947591619157]\n",
      "\n",
      " \n",
      " best params:  {'max_depth': 8.0, 'max_features': 17.0, 'min_impurity_decrease': 0.0, 'n_estimators': 85.0} \n",
      "\n"
     ]
    }
   ],
   "execution_count": 156
  },
  {
   "metadata": {
    "ExecuteTime": {
     "end_time": "2024-06-24T05:48:28.648844Z",
     "start_time": "2024-06-24T05:48:22.470628Z"
    }
   },
   "cell_type": "code",
   "source": [
    "# 模型调优\n",
    "rfc_turn3 = RandomForestClassifier(n_estimators=85, random_state=42, max_depth=8, max_features=17,min_impurity_decrease=0.0)\n",
    "\n",
    "result3 = eval_model(rfc_turn1, X, y, cv, 'random_forest_turn')"
   ],
   "id": "b24b7fa9fb2cf798",
   "outputs": [],
   "execution_count": 157
  },
  {
   "metadata": {
    "ExecuteTime": {
     "end_time": "2024-06-24T05:48:56.017586Z",
     "start_time": "2024-06-24T05:48:55.907367Z"
    }
   },
   "cell_type": "code",
   "source": [
    "# 显示模型结果\n",
    "plt.figure(figsize=(16,9),dpi=80)\n",
    "xaxis = range(1,6)\n",
    "\n",
    "#RMSE\n",
    "plt.plot(xaxis,rfc_result['trainRMSE'],color=\"green\",label = \"随机森林调优前训练集\")\n",
    "plt.plot(xaxis,rfc_result['testRMSE'],color=\"green\",linestyle=\"--\",label = \"随机森林调优前测试集\")\n",
    "plt.plot(xaxis,result3['trainRMSE'],color=\"red\",label = \"随机森林调优3后训练集\")\n",
    "plt.plot(xaxis,result3['testRMSE'],color=\"red\",linestyle=\"--\",label = \"随机森林调优3后测试集\")\n",
    "plt.xticks([1,2,3,4,5])\n",
    "plt.xlabel(\"CV\",fontsize=16)\n",
    "plt.ylabel(\"RMSE\",fontsize=16)\n",
    "plt.legend()\n",
    "plt.show()\n"
   ],
   "id": "cf3050a85d585314",
   "outputs": [
    {
     "data": {
      "text/plain": [
       "<Figure size 1280x720 with 1 Axes>"
      ],
      "image/png": "[encoded data removed]"
     },
     "metadata": {},
     "output_type": "display_data"
    }
   ],
   "execution_count": 159
  },
  {
   "metadata": {},
   "cell_type": "markdown",
   "source": "未有较大改善，进行交叉验证评分均值比较",
   "id": "316e5f04898e39fe"
  },
  {
   "metadata": {
    "ExecuteTime": {
     "end_time": "2024-06-24T05:50:20.279020Z",
     "start_time": "2024-06-24T05:50:20.247762Z"
    }
   },
   "cell_type": "code",
   "source": [
    "# 计算均值\n",
    "mean_ori_train = sum(rfc_result['trainRMSE'])/ len(rfc_result['trainRMSE'])\n",
    "mean_ori_test = sum(rfc_result['testRMSE'])/ len(rfc_result['testRMSE'])\n",
    "mean_turn_train1 = sum(result1['trainRMSE'])/ len(result1['trainRMSE'])\n",
    "mean_turn_test1 = sum(result1['testRMSE'])/ len(result1['testRMSE'])\n",
    "mean_turn_train3 = sum(result1['trainRMSE'])/ len(result1['trainRMSE'])\n",
    "mean_turn_test3 = sum(result1['testRMSE'])/ len(result1['testRMSE'])\n",
    "\n",
    "print('原随机森林训练集交叉验证分数均值{}'.format(mean_ori_train))\n",
    "print('原随机森林测试集交叉验证分数均值{}'.format(mean_ori_test))\n",
    "print('调优1后随机森林训练集交叉验证分数均值{}'.format(mean_turn_train1))\n",
    "print('调优1后随机森林测试集交叉验证分数均值{}'.format(mean_turn_test1))\n",
    "print('调优3后随机森林训练集交叉验证分数均值{}'.format(mean_turn_train3))\n",
    "print('调优3后随机森林测试集交叉验证分数均值{}'.format(mean_turn_test3))"
   ],
   "id": "122e8824d51d9d74",
   "outputs": [
    {
     "name": "stdout",
     "output_type": "stream",
     "text": [
      "原随机森林训练集交叉验证分数均值0.9999583012990974\n",
      "原随机森林测试集交叉验证分数均值0.991582010091052\n",
      "调优1后随机森林训练集交叉验证分数均值0.9999374495031796\n",
      "调优1后随机森林测试集交叉验证分数均值0.9911619282416183\n",
      "调优3后随机森林训练集交叉验证分数均值0.9999374495031796\n",
      "调优3后随机森林测试集交叉验证分数均值0.9911619282416183\n"
     ]
    }
   ],
   "execution_count": 160
  },
  {
   "metadata": {},
   "cell_type": "markdown",
   "source": "选择调优1参数作为随机森林模型参数",
   "id": "1c5bfd9868506b6"
  },
  {
   "metadata": {},
   "cell_type": "markdown",
   "source": "### 模型结果查看",
   "id": "ba2430324d67939"
  },
  {
   "metadata": {
    "ExecuteTime": {
     "end_time": "2024-06-24T06:09:58.344387Z",
     "start_time": "2024-06-24T06:09:56.975697Z"
    }
   },
   "cell_type": "code",
   "source": [
    "X_train, X_test, y_train, y_test = train_test_split(X, y, test_size=0.2, random_state=42)\n",
    "# 创建并训练模型\n",
    "rfc = RandomForestClassifier(n_estimators=80, random_state=42, max_depth=21, max_features=20,min_impurity_decrease=0.0)\n",
    "\n",
    "rfc.fit(X_train, y_train)\n",
    "feature_importances = rfc.feature_importances_\n"
   ],
   "id": "9daa1f0489c7e671",
   "outputs": [],
   "execution_count": 166
  },
  {
   "metadata": {
    "ExecuteTime": {
     "end_time": "2024-06-24T06:09:59.951561Z",
     "start_time": "2024-06-24T06:09:59.920217Z"
    }
   },
   "cell_type": "code",
   "source": [
    "sorted_indices = np.argsort(feature_importances)[::-1]\n",
    "importance_df = pd.DataFrame({\n",
    "    'Feature': X.columns,\n",
    "    'Importance': feature_importances\n",
    "})\n",
    "importance_df = importance_df.sort_values(by='Importance', ascending=False)\n",
    "print(importance_df)"
   ],
   "id": "4f41847f8768d4af",
   "outputs": [
    {
     "name": "stdout",
     "output_type": "stream",
     "text": [
      "                 Feature  Importance\n",
      "0     satisfaction_level    0.458270\n",
      "1        last_evaluation    0.151754\n",
      "2         number_project    0.144957\n",
      "4     time_spend_company    0.115489\n",
      "3   average_montly_hours    0.114439\n",
      "7                   sale    0.012715\n",
      "5          Work_accident    0.002178\n",
      "6  promotion_last_5years    0.000198\n"
     ]
    }
   ],
   "execution_count": 167
  },
  {
   "metadata": {},
   "cell_type": "markdown",
   "source": "根据模型的特征重要性显示，员工满意度为重要性最大的特征，其次为上次绩效评估分数。重要性最低的为五年内是否晋升",
   "id": "2110e2a61834efe6"
  },
  {
   "metadata": {},
   "cell_type": "markdown",
   "source": [
    "依据以上结果对如何减少员工离职提出一下几点建议：\n",
    "- 创建积极的工作环境：确保工作场所的物理环境舒适、安全，为员工营造一个友好和支持的工作氛围。\n",
    "- 关注员工的工作与生活的平衡：提供灵活的工作时间、远程办公选项和足够的休假时间，帮助员工平衡工作与家庭生活。\n",
    "- 员工关怀计划：提供心理健康支持、员工援助计划等，关注员工的心理和情感需求\n",
    "- 定期的绩效反馈：不仅在年度评估时提供反馈，还应进行定期的、建设性的绩效反馈，以帮助员工不断改进。\n",
    "- 设立明确的目标和期望：确保每位员工都清楚自己的角色、目标和期望，这样他们才能更有针对性地努力工作。\n",
    "- 提供发展机会：根据员工的绩效表现，提供培训、晋升和职业发展的机会，使他们看到在公司的未来发展空间"
   ],
   "id": "4bc5b39837e9f8c6"
  },
  {
   "metadata": {},
   "cell_type": "code",
   "outputs": [],
   "execution_count": null,
   "source": "",
   "id": "962410e4ac740a2c"
  }
 ],
 "metadata": {
  "kernelspec": {
   "display_name": "Python 3",
   "language": "python",
   "name": "python3"
  },
  "language_info": {
   "codemirror_mode": {
    "name": "ipython",
    "version": 2
   },
   "file_extension": ".py",
   "mimetype": "text/x-python",
   "name": "python",
   "nbconvert_exporter": "python",
   "pygments_lexer": "ipython2",
   "version": "2.7.6"
  }
 },
 "nbformat": 4,
 "nbformat_minor": 5
}
